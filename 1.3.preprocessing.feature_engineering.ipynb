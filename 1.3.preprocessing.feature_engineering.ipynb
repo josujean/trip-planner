{
 "cells": [
  {
   "cell_type": "markdown",
   "metadata": {},
   "source": [
    "### This code deals with the following:\n",
    "\n",
    "- missing price imputation\n",
    "- any processing to convert numeric values\n",
    "    - convert count of stars to percentage\n",
    "    - TF-IDF the one-hot encoded columns\n",
    "    - standardization of ratings by user\n",
    "    - dropping duplicate reviews to most recent user\n"
   ]
  },
  {
   "cell_type": "code",
   "execution_count": 2,
   "metadata": {},
   "outputs": [],
   "source": [
    "%matplotlib inline\n",
    "import os, sys, time, math\n",
    "import pandas as pd\n",
    "import numpy as np\n",
    "import string\n",
    "import nltk\n",
    "import matplotlib.pyplot as plt\n",
    "\n",
    "from scipy import sparse, stats\n",
    "from sklearn.neighbors import KNeighborsClassifier\n",
    "from sklearn.naive_bayes import MultinomialNB\n",
    "from sklearn.preprocessing import StandardScaler, MinMaxScaler, OneHotEncoder, LabelEncoder\n",
    "from sklearn.feature_extraction.text import TfidfVectorizer, HashingVectorizer\n",
    "from sklearn.decomposition import TruncatedSVD\n",
    "from nltk.corpus import stopwords\n",
    "from nltk.stem.wordnet import WordNetLemmatizer\n",
    "from nltk.stem.porter import PorterStemmer"
   ]
  },
  {
   "cell_type": "code",
   "execution_count": 9,
   "metadata": {},
   "outputs": [],
   "source": [
    "b = pd.read_csv(\"business_partial.csv\")"
   ]
  },
  {
   "cell_type": "code",
   "execution_count": 10,
   "metadata": {},
   "outputs": [
    {
     "data": {
      "text/plain": [
       "(14776, 45)"
      ]
     },
     "execution_count": 10,
     "metadata": {},
     "output_type": "execute_result"
    }
   ],
   "source": [
    "b[b.city.isin([\"Las Vegas\", \"Phoenix\"])].shape"
   ]
  },
  {
   "cell_type": "code",
   "execution_count": 13,
   "metadata": {},
   "outputs": [
    {
     "data": {
      "text/plain": [
       "business_id                 0.000000\n",
       "name                        0.000000\n",
       "city                        0.000000\n",
       "stars                       0.000000\n",
       "price                       0.210409\n",
       "review_count                0.000000\n",
       "1star_counts                0.000000\n",
       "2star_counts                0.000000\n",
       "3star_counts                0.000000\n",
       "4star_counts                0.000000\n",
       "5star_counts                0.000000\n",
       "text                        0.000000\n",
       "text_friendly               0.000000\n",
       "text_reasonable             0.000000\n",
       "text_local                  0.000000\n",
       "text_comfortable            0.000000\n",
       "text_easy                   0.000000\n",
       "text_quick                  0.000000\n",
       "categories                  0.000000\n",
       "categories_clean            0.000000\n",
       "cat_Restaurants             0.000000\n",
       "cat_Food                    0.000000\n",
       "cat_Shopping                0.000000\n",
       "cat_Active Life             0.000000\n",
       "cat_Arts & Entertainment    0.000000\n",
       "cat_Nightlife               0.000000\n",
       "cat_Hotels & Travel         0.000000\n",
       "cat_Tours                   0.000000\n",
       "cat_Landmark                0.000000\n",
       "cat_Others                  0.000000\n",
       "state                       0.000000\n",
       "address                     0.026326\n",
       "neighborhood                0.461086\n",
       "postal_code                 0.004061\n",
       "latitude                    0.000068\n",
       "longitude                   0.000000\n",
       "monday                      0.000000\n",
       "tuesday                     0.000000\n",
       "wednesday                   0.000000\n",
       "thursday                    0.000000\n",
       "friday                      0.000000\n",
       "saturday                    0.000000\n",
       "sunday                      0.000000\n",
       "las_vegas                   0.000000\n",
       "word_count                  0.000000\n",
       "dtype: float64"
      ]
     },
     "execution_count": 13,
     "metadata": {},
     "output_type": "execute_result"
    }
   ],
   "source": [
    "b[b.city.isin([\"Las Vegas\", \"Phoenix\"])].isnull().sum() / b[b.city.isin([\"Las Vegas\", \"Phoenix\"])].shape[0]"
   ]
  },
  {
   "cell_type": "code",
   "execution_count": 3,
   "metadata": {},
   "outputs": [
    {
     "name": "stdout",
     "output_type": "stream",
     "text": [
      "(18504, 204)\n"
     ]
    }
   ],
   "source": [
    "# load pre-filtered data\n",
    "'''\n",
    "This data has ben filtered by:\n",
    "- Open businesses only\n",
    "- Top 5 cities\n",
    "- Have 1 in either cat_Restaurants or cat_Food\n",
    "\n",
    "This data has been preprocessed to:\n",
    "- Include count of reviews\n",
    "- Perceptual features\n",
    "- Categories one-hot encode\n",
    "'''\n",
    "\n",
    "b = pd.read_csv('business_r_and_f.csv', index_col='business_id')\n",
    "print(b.shape)"
   ]
  },
  {
   "cell_type": "code",
   "execution_count": 7,
   "metadata": {},
   "outputs": [
    {
     "data": {
      "text/plain": [
       "(8329, 204)"
      ]
     },
     "execution_count": 7,
     "metadata": {},
     "output_type": "execute_result"
    }
   ],
   "source": [
    "b[b.city.isin([\"Las Vegas\", \"Phoenix\"])].shape"
   ]
  },
  {
   "cell_type": "code",
   "execution_count": 8,
   "metadata": {},
   "outputs": [
    {
     "data": {
      "text/plain": [
       "name                        0.000000\n",
       "city                        0.000000\n",
       "las_vegas                   0.000000\n",
       "stars                       0.000000\n",
       "price                       0.054869\n",
       "review_count                0.000000\n",
       "1star_counts                0.000000\n",
       "2star_counts                0.000000\n",
       "3star_counts                0.000000\n",
       "4star_counts                0.000000\n",
       "5star_counts                0.000000\n",
       "text                        0.000000\n",
       "word_count                  0.000000\n",
       "text_friendly               0.000000\n",
       "text_reasonable             0.000000\n",
       "text_local                  0.000000\n",
       "text_comfortable            0.000000\n",
       "text_easy                   0.000000\n",
       "text_quick                  0.000000\n",
       "cat_Restaurants             0.000000\n",
       "cat_Food                    0.000000\n",
       "cat_Shopping                0.000000\n",
       "cat_Active Life             0.000000\n",
       "cat_Arts & Entertainment    0.000000\n",
       "cat_Nightlife               0.000000\n",
       "cat_Hotels & Travel         0.000000\n",
       "cat_Tours                   0.000000\n",
       "cat_Landmark                0.000000\n",
       "cat_Others                  0.000000\n",
       "state                       0.000000\n",
       "                              ...   \n",
       "Seafood                     0.000000\n",
       "Seafood Markets             0.000000\n",
       "Shaved Ice                  0.000000\n",
       "Shopping Centers            0.000000\n",
       "Soul Food                   0.000000\n",
       "Soup                        0.000000\n",
       "Southern                    0.000000\n",
       "Spanish                     0.000000\n",
       "Specialty Food              0.000000\n",
       "Sports Bars                 0.000000\n",
       "Steakhouses                 0.000000\n",
       "Street Vendors              0.000000\n",
       "Sushi Bars                  0.000000\n",
       "Szechuan                    0.000000\n",
       "Tacos                       0.000000\n",
       "Taiwanese                   0.000000\n",
       "Tapas Bars                  0.000000\n",
       "Tapas/Small Plates          0.000000\n",
       "Tea Rooms                   0.000000\n",
       "Tex-Mex                     0.000000\n",
       "Thai                        0.000000\n",
       "Turkish                     0.000000\n",
       "Vegan                       0.000000\n",
       "Vegetarian                  0.000000\n",
       "Venues & Event Spaces       0.000000\n",
       "Vietnamese                  0.000000\n",
       "Waffles                     0.000000\n",
       "Wine & Spirits              0.000000\n",
       "Wine Bars                   0.000000\n",
       "Wraps                       0.000000\n",
       "Length: 204, dtype: float64"
      ]
     },
     "execution_count": 8,
     "metadata": {},
     "output_type": "execute_result"
    }
   ],
   "source": [
    "b[b.city.isin([\"Las Vegas\", \"Phoenix\"])].isnull().sum() / b[b.city.isin([\"Las Vegas\", \"Phoenix\"])].shape[0]"
   ]
  },
  {
   "cell_type": "markdown",
   "metadata": {},
   "source": [
    "### Business - convert star counts to percentage"
   ]
  },
  {
   "cell_type": "code",
   "execution_count": 179,
   "metadata": {},
   "outputs": [
    {
     "data": {
      "text/plain": [
       "['name',\n",
       " 'city',\n",
       " 'las_vegas',\n",
       " 'stars',\n",
       " 'price',\n",
       " 'review_count',\n",
       " '1star_counts',\n",
       " '2star_counts',\n",
       " '3star_counts',\n",
       " '4star_counts',\n",
       " '5star_counts',\n",
       " 'text',\n",
       " 'word_count',\n",
       " 'text_friendly',\n",
       " 'text_reasonable',\n",
       " 'text_local',\n",
       " 'text_comfortable',\n",
       " 'text_easy',\n",
       " 'text_quick',\n",
       " 'cat_Restaurants',\n",
       " 'cat_Food',\n",
       " 'cat_Shopping',\n",
       " 'cat_Active Life',\n",
       " 'cat_Arts & Entertainment',\n",
       " 'cat_Nightlife',\n",
       " 'cat_Hotels & Travel',\n",
       " 'cat_Tours',\n",
       " 'cat_Landmark',\n",
       " 'cat_Others',\n",
       " 'state',\n",
       " 'address',\n",
       " 'neighborhood',\n",
       " 'postal_code',\n",
       " 'latitude',\n",
       " 'longitude',\n",
       " 'monday',\n",
       " 'tuesday',\n",
       " 'wednesday',\n",
       " 'thursday',\n",
       " 'friday',\n",
       " 'saturday',\n",
       " 'sunday',\n",
       " 'Acai Bowls',\n",
       " 'Afghan',\n",
       " 'African',\n",
       " 'American (New)',\n",
       " 'American (Traditional)',\n",
       " 'Arcades',\n",
       " 'Asian Fusion',\n",
       " 'Bagels',\n",
       " 'Bakeries',\n",
       " 'Barbeque',\n",
       " 'Bars',\n",
       " 'Bed & Breakfast',\n",
       " 'Beer',\n",
       " 'Beer Bar',\n",
       " 'Bistros',\n",
       " 'Brasseries',\n",
       " 'Brazilian',\n",
       " 'Breakfast & Brunch',\n",
       " 'Breweries',\n",
       " 'British',\n",
       " 'Bubble Tea',\n",
       " 'Buffets',\n",
       " 'Burgers',\n",
       " 'Butcher',\n",
       " 'Cafes',\n",
       " 'Cajun/Creole',\n",
       " 'Canadian (New)',\n",
       " 'Candy Stores',\n",
       " 'Cantonese',\n",
       " 'Caribbean',\n",
       " 'Casinos',\n",
       " 'Caterers',\n",
       " 'Cheesesteaks',\n",
       " 'Chicken Shop',\n",
       " 'Chicken Wings',\n",
       " 'Chinese',\n",
       " 'Chocolatiers & Shops',\n",
       " 'Cocktail Bars',\n",
       " 'Coffee & Tea',\n",
       " 'Coffee Roasteries',\n",
       " 'Comfort Food',\n",
       " 'Convenience Stores',\n",
       " 'Creperies',\n",
       " 'Cupcakes',\n",
       " 'Custom Cakes',\n",
       " 'Dance Clubs',\n",
       " 'Delicatessen',\n",
       " 'Delis',\n",
       " 'Department Stores',\n",
       " 'Desserts',\n",
       " 'Dim Sum',\n",
       " 'Diners',\n",
       " 'Dive Bars',\n",
       " 'Do-It-Yourself Food',\n",
       " 'Donairs',\n",
       " 'Donuts',\n",
       " 'Drugstores',\n",
       " 'Ethiopian',\n",
       " 'Ethnic Food',\n",
       " 'Event Planning & Services',\n",
       " 'Falafel',\n",
       " 'Farmers Market',\n",
       " 'Fashion',\n",
       " 'Fast Food',\n",
       " 'Filipino',\n",
       " 'Fish & Chips',\n",
       " 'Flowers & Gifts',\n",
       " 'Food Court',\n",
       " 'Food Delivery Services',\n",
       " 'Food Stands',\n",
       " 'Food Trucks',\n",
       " 'French',\n",
       " 'Fruits & Veggies',\n",
       " 'Gastropubs',\n",
       " 'Gelato',\n",
       " 'German',\n",
       " 'Gluten-Free',\n",
       " 'Golf',\n",
       " 'Greek',\n",
       " 'Grocery',\n",
       " 'Halal',\n",
       " 'Hawaiian',\n",
       " 'Health Markets',\n",
       " 'Home & Garden',\n",
       " 'Hookah Bars',\n",
       " 'Hot Dogs',\n",
       " 'Hot Pot',\n",
       " 'Hotels',\n",
       " 'Ice Cream & Frozen Yogurt',\n",
       " 'Imported Food',\n",
       " 'Indian',\n",
       " 'International Grocery',\n",
       " 'Internet Cafes',\n",
       " 'Irish',\n",
       " 'Irish Pub',\n",
       " 'Italian',\n",
       " 'Japanese',\n",
       " 'Juice Bars & Smoothies',\n",
       " 'Karaoke',\n",
       " 'Kebab',\n",
       " 'Korean',\n",
       " 'Kosher',\n",
       " 'Latin American',\n",
       " 'Lebanese',\n",
       " 'Local Flavor',\n",
       " 'Lounges',\n",
       " 'Meat Shops',\n",
       " 'Mediterranean',\n",
       " 'Mexican',\n",
       " 'Middle Eastern',\n",
       " 'Modern European',\n",
       " 'Music Venues',\n",
       " 'Noodles',\n",
       " 'Organic Stores',\n",
       " 'Pakistani',\n",
       " 'Pan Asian',\n",
       " 'Party & Event Planning',\n",
       " 'Pasta Shops',\n",
       " 'Patisserie/Cake Shop',\n",
       " 'Persian/Iranian',\n",
       " 'Peruvian',\n",
       " 'Pizza',\n",
       " 'Poke',\n",
       " 'Polish',\n",
       " 'Pool Halls',\n",
       " 'Portuguese',\n",
       " 'Poutineries',\n",
       " 'Pubs',\n",
       " 'Ramen',\n",
       " 'Salad',\n",
       " 'Salvadoran',\n",
       " 'Sandwiches',\n",
       " 'Seafood',\n",
       " 'Seafood Markets',\n",
       " 'Shaved Ice',\n",
       " 'Shopping Centers',\n",
       " 'Soul Food',\n",
       " 'Soup',\n",
       " 'Southern',\n",
       " 'Spanish',\n",
       " 'Specialty Food',\n",
       " 'Sports Bars',\n",
       " 'Steakhouses',\n",
       " 'Street Vendors',\n",
       " 'Sushi Bars',\n",
       " 'Szechuan',\n",
       " 'Tacos',\n",
       " 'Taiwanese',\n",
       " 'Tapas Bars',\n",
       " 'Tapas/Small Plates',\n",
       " 'Tea Rooms',\n",
       " 'Tex-Mex',\n",
       " 'Thai',\n",
       " 'Turkish',\n",
       " 'Vegan',\n",
       " 'Vegetarian',\n",
       " 'Venues & Event Spaces',\n",
       " 'Vietnamese',\n",
       " 'Waffles',\n",
       " 'Wine & Spirits',\n",
       " 'Wine Bars',\n",
       " 'Wraps']"
      ]
     },
     "execution_count": 179,
     "metadata": {},
     "output_type": "execute_result"
    }
   ],
   "source": [
    "[col for col in b.columns]"
   ]
  },
  {
   "cell_type": "code",
   "execution_count": 180,
   "metadata": {
    "scrolled": true
   },
   "outputs": [
    {
     "data": {
      "text/html": [
       "<div>\n",
       "<style scoped>\n",
       "    .dataframe tbody tr th:only-of-type {\n",
       "        vertical-align: middle;\n",
       "    }\n",
       "\n",
       "    .dataframe tbody tr th {\n",
       "        vertical-align: top;\n",
       "    }\n",
       "\n",
       "    .dataframe thead th {\n",
       "        text-align: right;\n",
       "    }\n",
       "</style>\n",
       "<table border=\"1\" class=\"dataframe\">\n",
       "  <thead>\n",
       "    <tr style=\"text-align: right;\">\n",
       "      <th></th>\n",
       "      <th>name</th>\n",
       "      <th>city</th>\n",
       "      <th>las_vegas</th>\n",
       "      <th>stars</th>\n",
       "      <th>price</th>\n",
       "      <th>review_count</th>\n",
       "      <th>1star_counts</th>\n",
       "      <th>2star_counts</th>\n",
       "      <th>3star_counts</th>\n",
       "      <th>4star_counts</th>\n",
       "      <th>...</th>\n",
       "      <th>Thai</th>\n",
       "      <th>Turkish</th>\n",
       "      <th>Vegan</th>\n",
       "      <th>Vegetarian</th>\n",
       "      <th>Venues &amp; Event Spaces</th>\n",
       "      <th>Vietnamese</th>\n",
       "      <th>Waffles</th>\n",
       "      <th>Wine &amp; Spirits</th>\n",
       "      <th>Wine Bars</th>\n",
       "      <th>Wraps</th>\n",
       "    </tr>\n",
       "    <tr>\n",
       "      <th>business_id</th>\n",
       "      <th></th>\n",
       "      <th></th>\n",
       "      <th></th>\n",
       "      <th></th>\n",
       "      <th></th>\n",
       "      <th></th>\n",
       "      <th></th>\n",
       "      <th></th>\n",
       "      <th></th>\n",
       "      <th></th>\n",
       "      <th></th>\n",
       "      <th></th>\n",
       "      <th></th>\n",
       "      <th></th>\n",
       "      <th></th>\n",
       "      <th></th>\n",
       "      <th></th>\n",
       "      <th></th>\n",
       "      <th></th>\n",
       "      <th></th>\n",
       "      <th></th>\n",
       "    </tr>\n",
       "  </thead>\n",
       "  <tbody>\n",
       "    <tr>\n",
       "      <th>--9e1ONYQuAa-CB_Rrw7Tw</th>\n",
       "      <td>Delmonico Steakhouse</td>\n",
       "      <td>Las Vegas</td>\n",
       "      <td>1</td>\n",
       "      <td>4.0</td>\n",
       "      <td>4.0</td>\n",
       "      <td>1546</td>\n",
       "      <td>0.032988</td>\n",
       "      <td>0.088616</td>\n",
       "      <td>0.113842</td>\n",
       "      <td>0.271669</td>\n",
       "      <td>...</td>\n",
       "      <td>0</td>\n",
       "      <td>0</td>\n",
       "      <td>0</td>\n",
       "      <td>0</td>\n",
       "      <td>0</td>\n",
       "      <td>0</td>\n",
       "      <td>0</td>\n",
       "      <td>0</td>\n",
       "      <td>0</td>\n",
       "      <td>0</td>\n",
       "    </tr>\n",
       "    <tr>\n",
       "      <th>--DaPTJW3-tB1vP-PfdTEg</th>\n",
       "      <td>Sunnyside Grill</td>\n",
       "      <td>Toronto</td>\n",
       "      <td>0</td>\n",
       "      <td>3.5</td>\n",
       "      <td>2.0</td>\n",
       "      <td>45</td>\n",
       "      <td>0.088889</td>\n",
       "      <td>0.066667</td>\n",
       "      <td>0.200000</td>\n",
       "      <td>0.355556</td>\n",
       "      <td>...</td>\n",
       "      <td>0</td>\n",
       "      <td>0</td>\n",
       "      <td>0</td>\n",
       "      <td>0</td>\n",
       "      <td>0</td>\n",
       "      <td>0</td>\n",
       "      <td>0</td>\n",
       "      <td>0</td>\n",
       "      <td>0</td>\n",
       "      <td>0</td>\n",
       "    </tr>\n",
       "    <tr>\n",
       "      <th>--KCl2FvVQpvjzmZSPyviA</th>\n",
       "      <td>Hungry Howie's Pizza</td>\n",
       "      <td>Charlotte</td>\n",
       "      <td>0</td>\n",
       "      <td>3.0</td>\n",
       "      <td>1.0</td>\n",
       "      <td>13</td>\n",
       "      <td>0.230769</td>\n",
       "      <td>0.153846</td>\n",
       "      <td>0.230769</td>\n",
       "      <td>0.076923</td>\n",
       "      <td>...</td>\n",
       "      <td>0</td>\n",
       "      <td>0</td>\n",
       "      <td>0</td>\n",
       "      <td>0</td>\n",
       "      <td>0</td>\n",
       "      <td>0</td>\n",
       "      <td>0</td>\n",
       "      <td>0</td>\n",
       "      <td>0</td>\n",
       "      <td>0</td>\n",
       "    </tr>\n",
       "    <tr>\n",
       "      <th>--cZ6Hhc9F7VkKXxHMVZSQ</th>\n",
       "      <td>Pio Pio</td>\n",
       "      <td>Charlotte</td>\n",
       "      <td>0</td>\n",
       "      <td>4.0</td>\n",
       "      <td>2.0</td>\n",
       "      <td>333</td>\n",
       "      <td>0.066066</td>\n",
       "      <td>0.066066</td>\n",
       "      <td>0.129129</td>\n",
       "      <td>0.333333</td>\n",
       "      <td>...</td>\n",
       "      <td>0</td>\n",
       "      <td>0</td>\n",
       "      <td>0</td>\n",
       "      <td>0</td>\n",
       "      <td>0</td>\n",
       "      <td>0</td>\n",
       "      <td>0</td>\n",
       "      <td>0</td>\n",
       "      <td>0</td>\n",
       "      <td>0</td>\n",
       "    </tr>\n",
       "    <tr>\n",
       "      <th>-01XupAWZEXbdNbxNg5mEg</th>\n",
       "      <td>18 Degrees Neighborhood Grill</td>\n",
       "      <td>Scottsdale</td>\n",
       "      <td>0</td>\n",
       "      <td>3.0</td>\n",
       "      <td>2.0</td>\n",
       "      <td>82</td>\n",
       "      <td>0.243902</td>\n",
       "      <td>0.170732</td>\n",
       "      <td>0.207317</td>\n",
       "      <td>0.268293</td>\n",
       "      <td>...</td>\n",
       "      <td>0</td>\n",
       "      <td>0</td>\n",
       "      <td>0</td>\n",
       "      <td>0</td>\n",
       "      <td>0</td>\n",
       "      <td>0</td>\n",
       "      <td>0</td>\n",
       "      <td>0</td>\n",
       "      <td>0</td>\n",
       "      <td>0</td>\n",
       "    </tr>\n",
       "  </tbody>\n",
       "</table>\n",
       "<p>5 rows × 204 columns</p>\n",
       "</div>"
      ],
      "text/plain": [
       "                                                 name        city  las_vegas  \\\n",
       "business_id                                                                    \n",
       "--9e1ONYQuAa-CB_Rrw7Tw           Delmonico Steakhouse   Las Vegas          1   \n",
       "--DaPTJW3-tB1vP-PfdTEg                Sunnyside Grill     Toronto          0   \n",
       "--KCl2FvVQpvjzmZSPyviA           Hungry Howie's Pizza   Charlotte          0   \n",
       "--cZ6Hhc9F7VkKXxHMVZSQ                        Pio Pio   Charlotte          0   \n",
       "-01XupAWZEXbdNbxNg5mEg  18 Degrees Neighborhood Grill  Scottsdale          0   \n",
       "\n",
       "                        stars  price  review_count  1star_counts  \\\n",
       "business_id                                                        \n",
       "--9e1ONYQuAa-CB_Rrw7Tw    4.0    4.0          1546      0.032988   \n",
       "--DaPTJW3-tB1vP-PfdTEg    3.5    2.0            45      0.088889   \n",
       "--KCl2FvVQpvjzmZSPyviA    3.0    1.0            13      0.230769   \n",
       "--cZ6Hhc9F7VkKXxHMVZSQ    4.0    2.0           333      0.066066   \n",
       "-01XupAWZEXbdNbxNg5mEg    3.0    2.0            82      0.243902   \n",
       "\n",
       "                        2star_counts  3star_counts  4star_counts  ...  Thai  \\\n",
       "business_id                                                       ...         \n",
       "--9e1ONYQuAa-CB_Rrw7Tw      0.088616      0.113842      0.271669  ...     0   \n",
       "--DaPTJW3-tB1vP-PfdTEg      0.066667      0.200000      0.355556  ...     0   \n",
       "--KCl2FvVQpvjzmZSPyviA      0.153846      0.230769      0.076923  ...     0   \n",
       "--cZ6Hhc9F7VkKXxHMVZSQ      0.066066      0.129129      0.333333  ...     0   \n",
       "-01XupAWZEXbdNbxNg5mEg      0.170732      0.207317      0.268293  ...     0   \n",
       "\n",
       "                       Turkish  Vegan  Vegetarian  Venues & Event Spaces  \\\n",
       "business_id                                                                \n",
       "--9e1ONYQuAa-CB_Rrw7Tw       0      0           0                      0   \n",
       "--DaPTJW3-tB1vP-PfdTEg       0      0           0                      0   \n",
       "--KCl2FvVQpvjzmZSPyviA       0      0           0                      0   \n",
       "--cZ6Hhc9F7VkKXxHMVZSQ       0      0           0                      0   \n",
       "-01XupAWZEXbdNbxNg5mEg       0      0           0                      0   \n",
       "\n",
       "                        Vietnamese  Waffles  Wine & Spirits  Wine Bars  Wraps  \n",
       "business_id                                                                    \n",
       "--9e1ONYQuAa-CB_Rrw7Tw           0        0               0          0      0  \n",
       "--DaPTJW3-tB1vP-PfdTEg           0        0               0          0      0  \n",
       "--KCl2FvVQpvjzmZSPyviA           0        0               0          0      0  \n",
       "--cZ6Hhc9F7VkKXxHMVZSQ           0        0               0          0      0  \n",
       "-01XupAWZEXbdNbxNg5mEg           0        0               0          0      0  \n",
       "\n",
       "[5 rows x 204 columns]"
      ]
     },
     "execution_count": 180,
     "metadata": {},
     "output_type": "execute_result"
    }
   ],
   "source": [
    "b['1star_counts'] = b['1star_counts']/b['review_count']\n",
    "b['2star_counts'] = b['2star_counts']/b['review_count']\n",
    "b['3star_counts'] = b['3star_counts']/b['review_count']\n",
    "b['4star_counts'] = b['4star_counts']/b['review_count']\n",
    "b['5star_counts'] = b['5star_counts']/b['review_count']\n",
    "b.head()"
   ]
  },
  {
   "cell_type": "code",
   "execution_count": 181,
   "metadata": {},
   "outputs": [
    {
     "data": {
      "text/html": [
       "<div>\n",
       "<style scoped>\n",
       "    .dataframe tbody tr th:only-of-type {\n",
       "        vertical-align: middle;\n",
       "    }\n",
       "\n",
       "    .dataframe tbody tr th {\n",
       "        vertical-align: top;\n",
       "    }\n",
       "\n",
       "    .dataframe thead th {\n",
       "        text-align: right;\n",
       "    }\n",
       "</style>\n",
       "<table border=\"1\" class=\"dataframe\">\n",
       "  <thead>\n",
       "    <tr style=\"text-align: right;\">\n",
       "      <th></th>\n",
       "      <th>name</th>\n",
       "      <th>city</th>\n",
       "      <th>las_vegas</th>\n",
       "      <th>stars</th>\n",
       "      <th>price</th>\n",
       "      <th>review_count</th>\n",
       "      <th>1star_ratio</th>\n",
       "      <th>2star_ratio</th>\n",
       "      <th>3star_ratio</th>\n",
       "      <th>4star_ratio</th>\n",
       "      <th>...</th>\n",
       "      <th>Thai</th>\n",
       "      <th>Turkish</th>\n",
       "      <th>Vegan</th>\n",
       "      <th>Vegetarian</th>\n",
       "      <th>Venues &amp; Event Spaces</th>\n",
       "      <th>Vietnamese</th>\n",
       "      <th>Waffles</th>\n",
       "      <th>Wine &amp; Spirits</th>\n",
       "      <th>Wine Bars</th>\n",
       "      <th>Wraps</th>\n",
       "    </tr>\n",
       "    <tr>\n",
       "      <th>business_id</th>\n",
       "      <th></th>\n",
       "      <th></th>\n",
       "      <th></th>\n",
       "      <th></th>\n",
       "      <th></th>\n",
       "      <th></th>\n",
       "      <th></th>\n",
       "      <th></th>\n",
       "      <th></th>\n",
       "      <th></th>\n",
       "      <th></th>\n",
       "      <th></th>\n",
       "      <th></th>\n",
       "      <th></th>\n",
       "      <th></th>\n",
       "      <th></th>\n",
       "      <th></th>\n",
       "      <th></th>\n",
       "      <th></th>\n",
       "      <th></th>\n",
       "      <th></th>\n",
       "    </tr>\n",
       "  </thead>\n",
       "  <tbody>\n",
       "    <tr>\n",
       "      <th>--9e1ONYQuAa-CB_Rrw7Tw</th>\n",
       "      <td>Delmonico Steakhouse</td>\n",
       "      <td>Las Vegas</td>\n",
       "      <td>1</td>\n",
       "      <td>4.0</td>\n",
       "      <td>4.0</td>\n",
       "      <td>1546</td>\n",
       "      <td>0.032988</td>\n",
       "      <td>0.088616</td>\n",
       "      <td>0.113842</td>\n",
       "      <td>0.271669</td>\n",
       "      <td>...</td>\n",
       "      <td>0</td>\n",
       "      <td>0</td>\n",
       "      <td>0</td>\n",
       "      <td>0</td>\n",
       "      <td>0</td>\n",
       "      <td>0</td>\n",
       "      <td>0</td>\n",
       "      <td>0</td>\n",
       "      <td>0</td>\n",
       "      <td>0</td>\n",
       "    </tr>\n",
       "    <tr>\n",
       "      <th>--DaPTJW3-tB1vP-PfdTEg</th>\n",
       "      <td>Sunnyside Grill</td>\n",
       "      <td>Toronto</td>\n",
       "      <td>0</td>\n",
       "      <td>3.5</td>\n",
       "      <td>2.0</td>\n",
       "      <td>45</td>\n",
       "      <td>0.088889</td>\n",
       "      <td>0.066667</td>\n",
       "      <td>0.200000</td>\n",
       "      <td>0.355556</td>\n",
       "      <td>...</td>\n",
       "      <td>0</td>\n",
       "      <td>0</td>\n",
       "      <td>0</td>\n",
       "      <td>0</td>\n",
       "      <td>0</td>\n",
       "      <td>0</td>\n",
       "      <td>0</td>\n",
       "      <td>0</td>\n",
       "      <td>0</td>\n",
       "      <td>0</td>\n",
       "    </tr>\n",
       "    <tr>\n",
       "      <th>--KCl2FvVQpvjzmZSPyviA</th>\n",
       "      <td>Hungry Howie's Pizza</td>\n",
       "      <td>Charlotte</td>\n",
       "      <td>0</td>\n",
       "      <td>3.0</td>\n",
       "      <td>1.0</td>\n",
       "      <td>13</td>\n",
       "      <td>0.230769</td>\n",
       "      <td>0.153846</td>\n",
       "      <td>0.230769</td>\n",
       "      <td>0.076923</td>\n",
       "      <td>...</td>\n",
       "      <td>0</td>\n",
       "      <td>0</td>\n",
       "      <td>0</td>\n",
       "      <td>0</td>\n",
       "      <td>0</td>\n",
       "      <td>0</td>\n",
       "      <td>0</td>\n",
       "      <td>0</td>\n",
       "      <td>0</td>\n",
       "      <td>0</td>\n",
       "    </tr>\n",
       "    <tr>\n",
       "      <th>--cZ6Hhc9F7VkKXxHMVZSQ</th>\n",
       "      <td>Pio Pio</td>\n",
       "      <td>Charlotte</td>\n",
       "      <td>0</td>\n",
       "      <td>4.0</td>\n",
       "      <td>2.0</td>\n",
       "      <td>333</td>\n",
       "      <td>0.066066</td>\n",
       "      <td>0.066066</td>\n",
       "      <td>0.129129</td>\n",
       "      <td>0.333333</td>\n",
       "      <td>...</td>\n",
       "      <td>0</td>\n",
       "      <td>0</td>\n",
       "      <td>0</td>\n",
       "      <td>0</td>\n",
       "      <td>0</td>\n",
       "      <td>0</td>\n",
       "      <td>0</td>\n",
       "      <td>0</td>\n",
       "      <td>0</td>\n",
       "      <td>0</td>\n",
       "    </tr>\n",
       "    <tr>\n",
       "      <th>-01XupAWZEXbdNbxNg5mEg</th>\n",
       "      <td>18 Degrees Neighborhood Grill</td>\n",
       "      <td>Scottsdale</td>\n",
       "      <td>0</td>\n",
       "      <td>3.0</td>\n",
       "      <td>2.0</td>\n",
       "      <td>82</td>\n",
       "      <td>0.243902</td>\n",
       "      <td>0.170732</td>\n",
       "      <td>0.207317</td>\n",
       "      <td>0.268293</td>\n",
       "      <td>...</td>\n",
       "      <td>0</td>\n",
       "      <td>0</td>\n",
       "      <td>0</td>\n",
       "      <td>0</td>\n",
       "      <td>0</td>\n",
       "      <td>0</td>\n",
       "      <td>0</td>\n",
       "      <td>0</td>\n",
       "      <td>0</td>\n",
       "      <td>0</td>\n",
       "    </tr>\n",
       "  </tbody>\n",
       "</table>\n",
       "<p>5 rows × 204 columns</p>\n",
       "</div>"
      ],
      "text/plain": [
       "                                                 name        city  las_vegas  \\\n",
       "business_id                                                                    \n",
       "--9e1ONYQuAa-CB_Rrw7Tw           Delmonico Steakhouse   Las Vegas          1   \n",
       "--DaPTJW3-tB1vP-PfdTEg                Sunnyside Grill     Toronto          0   \n",
       "--KCl2FvVQpvjzmZSPyviA           Hungry Howie's Pizza   Charlotte          0   \n",
       "--cZ6Hhc9F7VkKXxHMVZSQ                        Pio Pio   Charlotte          0   \n",
       "-01XupAWZEXbdNbxNg5mEg  18 Degrees Neighborhood Grill  Scottsdale          0   \n",
       "\n",
       "                        stars  price  review_count  1star_ratio  2star_ratio  \\\n",
       "business_id                                                                    \n",
       "--9e1ONYQuAa-CB_Rrw7Tw    4.0    4.0          1546     0.032988     0.088616   \n",
       "--DaPTJW3-tB1vP-PfdTEg    3.5    2.0            45     0.088889     0.066667   \n",
       "--KCl2FvVQpvjzmZSPyviA    3.0    1.0            13     0.230769     0.153846   \n",
       "--cZ6Hhc9F7VkKXxHMVZSQ    4.0    2.0           333     0.066066     0.066066   \n",
       "-01XupAWZEXbdNbxNg5mEg    3.0    2.0            82     0.243902     0.170732   \n",
       "\n",
       "                        3star_ratio  4star_ratio  ...  Thai Turkish  Vegan  \\\n",
       "business_id                                       ...                        \n",
       "--9e1ONYQuAa-CB_Rrw7Tw     0.113842     0.271669  ...     0       0      0   \n",
       "--DaPTJW3-tB1vP-PfdTEg     0.200000     0.355556  ...     0       0      0   \n",
       "--KCl2FvVQpvjzmZSPyviA     0.230769     0.076923  ...     0       0      0   \n",
       "--cZ6Hhc9F7VkKXxHMVZSQ     0.129129     0.333333  ...     0       0      0   \n",
       "-01XupAWZEXbdNbxNg5mEg     0.207317     0.268293  ...     0       0      0   \n",
       "\n",
       "                        Vegetarian  Venues & Event Spaces  Vietnamese  \\\n",
       "business_id                                                             \n",
       "--9e1ONYQuAa-CB_Rrw7Tw           0                      0           0   \n",
       "--DaPTJW3-tB1vP-PfdTEg           0                      0           0   \n",
       "--KCl2FvVQpvjzmZSPyviA           0                      0           0   \n",
       "--cZ6Hhc9F7VkKXxHMVZSQ           0                      0           0   \n",
       "-01XupAWZEXbdNbxNg5mEg           0                      0           0   \n",
       "\n",
       "                        Waffles  Wine & Spirits  Wine Bars  Wraps  \n",
       "business_id                                                        \n",
       "--9e1ONYQuAa-CB_Rrw7Tw        0               0          0      0  \n",
       "--DaPTJW3-tB1vP-PfdTEg        0               0          0      0  \n",
       "--KCl2FvVQpvjzmZSPyviA        0               0          0      0  \n",
       "--cZ6Hhc9F7VkKXxHMVZSQ        0               0          0      0  \n",
       "-01XupAWZEXbdNbxNg5mEg        0               0          0      0  \n",
       "\n",
       "[5 rows x 204 columns]"
      ]
     },
     "execution_count": 181,
     "metadata": {},
     "output_type": "execute_result"
    }
   ],
   "source": [
    "# rename star counts to star ratio\n",
    "\n",
    "col_rename = {\n",
    "    '1star_counts': '1star_ratio',\n",
    "    '2star_counts': '2star_ratio',\n",
    "    '3star_counts': '3star_ratio',\n",
    "    '4star_counts': '4star_ratio',\n",
    "    '5star_counts': '5star_ratio'\n",
    "    }\n",
    "\n",
    "b.rename(col_rename, axis=1, inplace=True)\n",
    "\n",
    "b.head()"
   ]
  },
  {
   "cell_type": "markdown",
   "metadata": {},
   "source": [
    "### Business - missing price imputation using text"
   ]
  },
  {
   "cell_type": "code",
   "execution_count": 182,
   "metadata": {},
   "outputs": [
    {
     "data": {
      "text/html": [
       "<div>\n",
       "<style scoped>\n",
       "    .dataframe tbody tr th:only-of-type {\n",
       "        vertical-align: middle;\n",
       "    }\n",
       "\n",
       "    .dataframe tbody tr th {\n",
       "        vertical-align: top;\n",
       "    }\n",
       "\n",
       "    .dataframe thead tr th {\n",
       "        text-align: left;\n",
       "    }\n",
       "\n",
       "    .dataframe thead tr:last-of-type th {\n",
       "        text-align: right;\n",
       "    }\n",
       "</style>\n",
       "<table border=\"1\" class=\"dataframe\">\n",
       "  <thead>\n",
       "    <tr>\n",
       "      <th></th>\n",
       "      <th>stars</th>\n",
       "      <th>price</th>\n",
       "    </tr>\n",
       "    <tr>\n",
       "      <th></th>\n",
       "      <th>mean</th>\n",
       "      <th>mean</th>\n",
       "    </tr>\n",
       "    <tr>\n",
       "      <th>city</th>\n",
       "      <th></th>\n",
       "      <th></th>\n",
       "    </tr>\n",
       "  </thead>\n",
       "  <tbody>\n",
       "    <tr>\n",
       "      <th>Charlotte</th>\n",
       "      <td>3.464536</td>\n",
       "      <td>1.566905</td>\n",
       "    </tr>\n",
       "    <tr>\n",
       "      <th>Las Vegas</th>\n",
       "      <td>3.491629</td>\n",
       "      <td>1.592363</td>\n",
       "    </tr>\n",
       "    <tr>\n",
       "      <th>Phoenix</th>\n",
       "      <td>3.480474</td>\n",
       "      <td>1.459201</td>\n",
       "    </tr>\n",
       "    <tr>\n",
       "      <th>Scottsdale</th>\n",
       "      <td>3.682259</td>\n",
       "      <td>1.727273</td>\n",
       "    </tr>\n",
       "    <tr>\n",
       "      <th>Toronto</th>\n",
       "      <td>3.482696</td>\n",
       "      <td>1.794073</td>\n",
       "    </tr>\n",
       "  </tbody>\n",
       "</table>\n",
       "</div>"
      ],
      "text/plain": [
       "               stars     price\n",
       "                mean      mean\n",
       "city                          \n",
       "Charlotte   3.464536  1.566905\n",
       "Las Vegas   3.491629  1.592363\n",
       "Phoenix     3.480474  1.459201\n",
       "Scottsdale  3.682259  1.727273\n",
       "Toronto     3.482696  1.794073"
      ]
     },
     "execution_count": 182,
     "metadata": {},
     "output_type": "execute_result"
    }
   ],
   "source": [
    "# examine the average price across cities\n",
    "b.groupby('city')['stars', 'price'].agg(['mean'])"
   ]
  },
  {
   "cell_type": "code",
   "execution_count": 183,
   "metadata": {},
   "outputs": [],
   "source": [
    "# split train and test indices\n",
    "X_train = b.text[b.price.notnull()]\n",
    "y_train = b.price[b.price.notnull()]\n",
    "X_test = b.text[b.price.isnull()]"
   ]
  },
  {
   "cell_type": "code",
   "execution_count": 184,
   "metadata": {},
   "outputs": [
    {
     "name": "stderr",
     "output_type": "stream",
     "text": [
      "C:\\Users\\mm4me\\Anaconda3\\lib\\site-packages\\sklearn\\feature_extraction\\hashing.py:102: DeprecationWarning: the option non_negative=True has been deprecated in 0.19 and will be removed in version 0.21.\n",
      "  \" in version 0.21.\", DeprecationWarning)\n",
      "C:\\Users\\mm4me\\Anaconda3\\lib\\site-packages\\sklearn\\feature_extraction\\hashing.py:102: DeprecationWarning: the option non_negative=True has been deprecated in 0.19 and will be removed in version 0.21.\n",
      "  \" in version 0.21.\", DeprecationWarning)\n",
      "C:\\Users\\mm4me\\Anaconda3\\lib\\site-packages\\sklearn\\feature_extraction\\hashing.py:102: DeprecationWarning: the option non_negative=True has been deprecated in 0.19 and will be removed in version 0.21.\n",
      "  \" in version 0.21.\", DeprecationWarning)\n"
     ]
    },
    {
     "data": {
      "text/plain": [
       "<17131x100 sparse matrix of type '<class 'numpy.float64'>'\n",
       "\twith 1629236 stored elements in Compressed Sparse Row format>"
      ]
     },
     "execution_count": 184,
     "metadata": {},
     "output_type": "execute_result"
    }
   ],
   "source": [
    "# use HashingVectorizer for efficiency\n",
    "vectorizer = HashingVectorizer(stop_words='english', n_features=100, non_negative=True)\n",
    "vectorizer.fit(X_train)\n",
    "\n",
    "X_train_dtm = vectorizer.fit_transform(X_train)\n",
    "X_train_dtm"
   ]
  },
  {
   "cell_type": "code",
   "execution_count": 185,
   "metadata": {},
   "outputs": [
    {
     "name": "stderr",
     "output_type": "stream",
     "text": [
      "C:\\Users\\mm4me\\Anaconda3\\lib\\site-packages\\sklearn\\feature_extraction\\hashing.py:102: DeprecationWarning: the option non_negative=True has been deprecated in 0.19 and will be removed in version 0.21.\n",
      "  \" in version 0.21.\", DeprecationWarning)\n"
     ]
    },
    {
     "data": {
      "text/plain": [
       "<1373x100 sparse matrix of type '<class 'numpy.float64'>'\n",
       "\twith 103658 stored elements in Compressed Sparse Row format>"
      ]
     },
     "execution_count": 185,
     "metadata": {},
     "output_type": "execute_result"
    }
   ],
   "source": [
    "X_test_dtm = vectorizer.transform(X_test)\n",
    "X_test_dtm"
   ]
  },
  {
   "cell_type": "code",
   "execution_count": 186,
   "metadata": {
    "scrolled": true
   },
   "outputs": [
    {
     "data": {
      "text/plain": [
       "MultinomialNB(alpha=1.0, class_prior=None, fit_prior=True)"
      ]
     },
     "execution_count": 186,
     "metadata": {},
     "output_type": "execute_result"
    }
   ],
   "source": [
    "# fit Nultinomial Naive Bayes\n",
    "nb = MultinomialNB()\n",
    "nb.fit(X_train_dtm, y_train)"
   ]
  },
  {
   "cell_type": "code",
   "execution_count": 187,
   "metadata": {},
   "outputs": [
    {
     "data": {
      "text/plain": [
       "(1373,)"
      ]
     },
     "execution_count": 187,
     "metadata": {},
     "output_type": "execute_result"
    }
   ],
   "source": [
    "y_pred = nb.predict(X_test_dtm)\n",
    "y_pred.shape"
   ]
  },
  {
   "cell_type": "code",
   "execution_count": 188,
   "metadata": {},
   "outputs": [
    {
     "name": "stdout",
     "output_type": "stream",
     "text": [
      "[[   1  181]\n",
      " [   2 1192]]\n"
     ]
    }
   ],
   "source": [
    "unique, counts = np.unique([int(price) for price in y_pred], return_counts=True)\n",
    "print(np.asarray((unique, counts)).T)"
   ]
  },
  {
   "cell_type": "code",
   "execution_count": 189,
   "metadata": {
    "scrolled": true
   },
   "outputs": [
    {
     "name": "stderr",
     "output_type": "stream",
     "text": [
      "C:\\Users\\mm4me\\Anaconda3\\lib\\site-packages\\ipykernel_launcher.py:1: SettingWithCopyWarning: \n",
      "A value is trying to be set on a copy of a slice from a DataFrame\n",
      "\n",
      "See the caveats in the documentation: http://pandas.pydata.org/pandas-docs/stable/indexing.html#indexing-view-versus-copy\n",
      "  \"\"\"Entry point for launching an IPython kernel.\n"
     ]
    },
    {
     "data": {
      "text/plain": [
       "business_id\n",
       "--9e1ONYQuAa-CB_Rrw7Tw    4.0\n",
       "--DaPTJW3-tB1vP-PfdTEg    2.0\n",
       "--KCl2FvVQpvjzmZSPyviA    1.0\n",
       "--cZ6Hhc9F7VkKXxHMVZSQ    2.0\n",
       "-01XupAWZEXbdNbxNg5mEg    2.0\n",
       "-0BxAGlIk5DJAGVkpqBXxg    2.0\n",
       "-0QtTRrAMn6DKLZNef3Ojg    1.0\n",
       "-0WegMt6Cy966qlDKhu6jA    2.0\n",
       "-0aOudcaAyac0VJbMX-L1g    1.0\n",
       "-0tgMGl7D9B10YjSN2ujLA    2.0\n",
       "-1UMR00eXtwaeh59pEiDjA    2.0\n",
       "-1m9o3vGRA8IBPNvNqKLmA    4.0\n",
       "-1uVyyy3UXNA9WoPucNniA    1.0\n",
       "-2isRNVb6PDuBagELL5EBw    1.0\n",
       "-2pQf1ceDZyE2ReCNbj-3A    1.0\n",
       "-2pmn-oTJeybmDrL-ojwrw    1.0\n",
       "-2uYjztVuVZpkTNAC38zdg    1.0\n",
       "-3VEk6j5XnEnOOthoY2jYQ    1.0\n",
       "-3iE3lPp18Tn2ixqIRJB_w    2.0\n",
       "-3pJJf-vHQfysafL0r8YsA    1.0\n",
       "-3vXcKzJA_kVZDM8Yn3w_Q    2.0\n",
       "-3zffZUHoY8bQjGfPSoBKQ    4.0\n",
       "-45kMvS7h38CGaWugPY0rg    2.0\n",
       "-46pFijv3f2jZH-_Ze6CQA    4.0\n",
       "-4TMQnQJW1yd6NqGRDvAeA    3.0\n",
       "-4eA7Um2eiOKsGLmcXNx_w    2.0\n",
       "-4uT6QFVaRtc2Zmxvtd9Vg    2.0\n",
       "-5L8zOxibac-vBrsYtxXbQ    2.0\n",
       "-6h3K1hj0d4DRcZNUtHDuw    2.0\n",
       "-6sE5v4OrVGmWxdIrbs-RQ    2.0\n",
       "                         ... \n",
       "zsgvTFimYf4stONAJOyePw    2.0\n",
       "zsl5aN9J7gTu_s3UVVJ8aQ    1.0\n",
       "zsyQEMYhIDcdGLbf-kYlRw    1.0\n",
       "ztOM7xebpPl7OUgOELEqKg    2.0\n",
       "ztk25JYxDZ9_9e2v6uHJAA    1.0\n",
       "ztzjD1Zs5tfMZTYKXkmL9Q    2.0\n",
       "zu5dqKqPjJCycS5k-92Alg    2.0\n",
       "zu8Wj0gkbdnia7Dt4grMkQ    1.0\n",
       "zuCgnSkJa3aFB5s1-8ew4g    2.0\n",
       "zusXbyXnJfS1Q-pZE9elmQ    1.0\n",
       "zuwba6QEBIDZT0tJZmNhdQ    2.0\n",
       "zvOy4znhODeXleiublTsRg    2.0\n",
       "zvezLicNkf8tTqZyYhP83w    2.0\n",
       "zvsJSNdg9UXEIL6FKiGa3Q    1.0\n",
       "zvtkeghW0Px5HY9QkJ4INw    1.0\n",
       "zwFRdFxgCV6bF6DAajpCtA    2.0\n",
       "zwMg7Qey7suZIw31S3jKmA    2.0\n",
       "zwNC-Ow4eIMan2__bS9-rg    1.0\n",
       "zwOuVcnMnc9zfev4_1M4jQ    2.0\n",
       "zwg2PdDB6hac2mMjYkUhaQ    2.0\n",
       "zwmps5SXn30g-f5wqg_r9A    2.0\n",
       "zx_j6OuuHHa2afVoAZuLpA    1.0\n",
       "zxsktAMsVBKj2PvvCV11UQ    2.0\n",
       "zy5UZvaG4iOLSbxuophtTQ    2.0\n",
       "zyPGYeXF4XKCqNN1pjFWhg    2.0\n",
       "zy_NHTqtfSrfTGGPoqy4Mw    2.0\n",
       "zyw5DjrRks7a8OhmBsgCQQ    2.0\n",
       "zzH3E5DA8eMzFwv2k5izyw    2.0\n",
       "zzLX3791UVXwLlJZDkRSiQ    2.0\n",
       "zzvlwkcNR1CCqOPXwuvz2A    2.0\n",
       "Name: price, Length: 18504, dtype: float64"
      ]
     },
     "execution_count": 189,
     "metadata": {},
     "output_type": "execute_result"
    }
   ],
   "source": [
    "b.price[b.price.isnull()] = y_pred\n",
    "b.price"
   ]
  },
  {
   "cell_type": "code",
   "execution_count": 10,
   "metadata": {
    "scrolled": true
   },
   "outputs": [
    {
     "data": {
      "text/plain": [
       "<5x20 sparse matrix of type '<class 'numpy.float64'>'\n",
       "\twith 84 stored elements in Compressed Sparse Row format>"
      ]
     },
     "execution_count": 10,
     "metadata": {},
     "output_type": "execute_result"
    }
   ],
   "source": [
    "vectorizer = TfidfVectorizer(stop_words='english', max_features=20)\n",
    "X = vectorizer.fit_transform(b['text'][:5])\n",
    "X"
   ]
  },
  {
   "cell_type": "code",
   "execution_count": 22,
   "metadata": {},
   "outputs": [
    {
     "name": "stdout",
     "output_type": "stream",
     "text": [
      "(18504, 560378)\n",
      "(18504, 205)\n"
     ]
    }
   ],
   "source": [
    "print(X.get_shape())\n",
    "print(b.shape)"
   ]
  },
  {
   "cell_type": "code",
   "execution_count": 24,
   "metadata": {},
   "outputs": [
    {
     "name": "stdout",
     "output_type": "stream",
     "text": [
      "0.3983546741552358\n"
     ]
    }
   ],
   "source": [
    "svd = TruncatedSVD(n_components=100, n_iter=7, random_state=42)\n",
    "svd.fit(X)\n",
    "print(svd.explained_variance_ratio_.sum())"
   ]
  },
  {
   "cell_type": "markdown",
   "metadata": {},
   "source": [
    "### Business - drop columns and normalize numerical"
   ]
  },
  {
   "cell_type": "code",
   "execution_count": 190,
   "metadata": {},
   "outputs": [],
   "source": [
    "# drop columns that are zero\n",
    "b.drop(['cat_Landmark', 'cat_Others'], axis=1, inplace=True)"
   ]
  },
  {
   "cell_type": "code",
   "execution_count": 191,
   "metadata": {},
   "outputs": [
    {
     "data": {
      "text/plain": [
       "['name',\n",
       " 'city',\n",
       " 'las_vegas',\n",
       " 'stars',\n",
       " 'price',\n",
       " 'review_count',\n",
       " '1star_ratio',\n",
       " '2star_ratio',\n",
       " '3star_ratio',\n",
       " '4star_ratio',\n",
       " '5star_ratio',\n",
       " 'text',\n",
       " 'word_count',\n",
       " 'text_friendly',\n",
       " 'text_reasonable',\n",
       " 'text_local',\n",
       " 'text_comfortable',\n",
       " 'text_easy',\n",
       " 'text_quick',\n",
       " 'cat_Restaurants',\n",
       " 'cat_Food',\n",
       " 'cat_Shopping',\n",
       " 'cat_Active Life',\n",
       " 'cat_Arts & Entertainment',\n",
       " 'cat_Nightlife',\n",
       " 'cat_Hotels & Travel',\n",
       " 'cat_Tours',\n",
       " 'state',\n",
       " 'address',\n",
       " 'neighborhood',\n",
       " 'postal_code',\n",
       " 'latitude',\n",
       " 'longitude',\n",
       " 'monday',\n",
       " 'tuesday',\n",
       " 'wednesday',\n",
       " 'thursday',\n",
       " 'friday',\n",
       " 'saturday',\n",
       " 'sunday',\n",
       " 'Acai Bowls',\n",
       " 'Afghan',\n",
       " 'African',\n",
       " 'American (New)',\n",
       " 'American (Traditional)',\n",
       " 'Arcades',\n",
       " 'Asian Fusion',\n",
       " 'Bagels',\n",
       " 'Bakeries',\n",
       " 'Barbeque',\n",
       " 'Bars',\n",
       " 'Bed & Breakfast',\n",
       " 'Beer',\n",
       " 'Beer Bar',\n",
       " 'Bistros',\n",
       " 'Brasseries',\n",
       " 'Brazilian',\n",
       " 'Breakfast & Brunch',\n",
       " 'Breweries',\n",
       " 'British',\n",
       " 'Bubble Tea',\n",
       " 'Buffets',\n",
       " 'Burgers',\n",
       " 'Butcher',\n",
       " 'Cafes',\n",
       " 'Cajun/Creole',\n",
       " 'Canadian (New)',\n",
       " 'Candy Stores',\n",
       " 'Cantonese',\n",
       " 'Caribbean',\n",
       " 'Casinos',\n",
       " 'Caterers',\n",
       " 'Cheesesteaks',\n",
       " 'Chicken Shop',\n",
       " 'Chicken Wings',\n",
       " 'Chinese',\n",
       " 'Chocolatiers & Shops',\n",
       " 'Cocktail Bars',\n",
       " 'Coffee & Tea',\n",
       " 'Coffee Roasteries',\n",
       " 'Comfort Food',\n",
       " 'Convenience Stores',\n",
       " 'Creperies',\n",
       " 'Cupcakes',\n",
       " 'Custom Cakes',\n",
       " 'Dance Clubs',\n",
       " 'Delicatessen',\n",
       " 'Delis',\n",
       " 'Department Stores',\n",
       " 'Desserts',\n",
       " 'Dim Sum',\n",
       " 'Diners',\n",
       " 'Dive Bars',\n",
       " 'Do-It-Yourself Food',\n",
       " 'Donairs',\n",
       " 'Donuts',\n",
       " 'Drugstores',\n",
       " 'Ethiopian',\n",
       " 'Ethnic Food',\n",
       " 'Event Planning & Services',\n",
       " 'Falafel',\n",
       " 'Farmers Market',\n",
       " 'Fashion',\n",
       " 'Fast Food',\n",
       " 'Filipino',\n",
       " 'Fish & Chips',\n",
       " 'Flowers & Gifts',\n",
       " 'Food Court',\n",
       " 'Food Delivery Services',\n",
       " 'Food Stands',\n",
       " 'Food Trucks',\n",
       " 'French',\n",
       " 'Fruits & Veggies',\n",
       " 'Gastropubs',\n",
       " 'Gelato',\n",
       " 'German',\n",
       " 'Gluten-Free',\n",
       " 'Golf',\n",
       " 'Greek',\n",
       " 'Grocery',\n",
       " 'Halal',\n",
       " 'Hawaiian',\n",
       " 'Health Markets',\n",
       " 'Home & Garden',\n",
       " 'Hookah Bars',\n",
       " 'Hot Dogs',\n",
       " 'Hot Pot',\n",
       " 'Hotels',\n",
       " 'Ice Cream & Frozen Yogurt',\n",
       " 'Imported Food',\n",
       " 'Indian',\n",
       " 'International Grocery',\n",
       " 'Internet Cafes',\n",
       " 'Irish',\n",
       " 'Irish Pub',\n",
       " 'Italian',\n",
       " 'Japanese',\n",
       " 'Juice Bars & Smoothies',\n",
       " 'Karaoke',\n",
       " 'Kebab',\n",
       " 'Korean',\n",
       " 'Kosher',\n",
       " 'Latin American',\n",
       " 'Lebanese',\n",
       " 'Local Flavor',\n",
       " 'Lounges',\n",
       " 'Meat Shops',\n",
       " 'Mediterranean',\n",
       " 'Mexican',\n",
       " 'Middle Eastern',\n",
       " 'Modern European',\n",
       " 'Music Venues',\n",
       " 'Noodles',\n",
       " 'Organic Stores',\n",
       " 'Pakistani',\n",
       " 'Pan Asian',\n",
       " 'Party & Event Planning',\n",
       " 'Pasta Shops',\n",
       " 'Patisserie/Cake Shop',\n",
       " 'Persian/Iranian',\n",
       " 'Peruvian',\n",
       " 'Pizza',\n",
       " 'Poke',\n",
       " 'Polish',\n",
       " 'Pool Halls',\n",
       " 'Portuguese',\n",
       " 'Poutineries',\n",
       " 'Pubs',\n",
       " 'Ramen',\n",
       " 'Salad',\n",
       " 'Salvadoran',\n",
       " 'Sandwiches',\n",
       " 'Seafood',\n",
       " 'Seafood Markets',\n",
       " 'Shaved Ice',\n",
       " 'Shopping Centers',\n",
       " 'Soul Food',\n",
       " 'Soup',\n",
       " 'Southern',\n",
       " 'Spanish',\n",
       " 'Specialty Food',\n",
       " 'Sports Bars',\n",
       " 'Steakhouses',\n",
       " 'Street Vendors',\n",
       " 'Sushi Bars',\n",
       " 'Szechuan',\n",
       " 'Tacos',\n",
       " 'Taiwanese',\n",
       " 'Tapas Bars',\n",
       " 'Tapas/Small Plates',\n",
       " 'Tea Rooms',\n",
       " 'Tex-Mex',\n",
       " 'Thai',\n",
       " 'Turkish',\n",
       " 'Vegan',\n",
       " 'Vegetarian',\n",
       " 'Venues & Event Spaces',\n",
       " 'Vietnamese',\n",
       " 'Waffles',\n",
       " 'Wine & Spirits',\n",
       " 'Wine Bars',\n",
       " 'Wraps']"
      ]
     },
     "execution_count": 191,
     "metadata": {},
     "output_type": "execute_result"
    }
   ],
   "source": [
    "[col for col in b.columns]"
   ]
  },
  {
   "cell_type": "code",
   "execution_count": 192,
   "metadata": {
    "scrolled": true
   },
   "outputs": [
    {
     "data": {
      "text/html": [
       "<div>\n",
       "<style scoped>\n",
       "    .dataframe tbody tr th:only-of-type {\n",
       "        vertical-align: middle;\n",
       "    }\n",
       "\n",
       "    .dataframe tbody tr th {\n",
       "        vertical-align: top;\n",
       "    }\n",
       "\n",
       "    .dataframe thead th {\n",
       "        text-align: right;\n",
       "    }\n",
       "</style>\n",
       "<table border=\"1\" class=\"dataframe\">\n",
       "  <thead>\n",
       "    <tr style=\"text-align: right;\">\n",
       "      <th></th>\n",
       "      <th>stars</th>\n",
       "      <th>price</th>\n",
       "      <th>review_count</th>\n",
       "      <th>1star_ratio</th>\n",
       "      <th>2star_ratio</th>\n",
       "      <th>3star_ratio</th>\n",
       "      <th>4star_ratio</th>\n",
       "      <th>5star_ratio</th>\n",
       "      <th>word_count</th>\n",
       "      <th>text_friendly</th>\n",
       "      <th>...</th>\n",
       "      <th>text_easy</th>\n",
       "      <th>text_quick</th>\n",
       "      <th>cat_Restaurants</th>\n",
       "      <th>cat_Food</th>\n",
       "      <th>cat_Shopping</th>\n",
       "      <th>cat_Active Life</th>\n",
       "      <th>cat_Arts &amp; Entertainment</th>\n",
       "      <th>cat_Nightlife</th>\n",
       "      <th>cat_Hotels &amp; Travel</th>\n",
       "      <th>cat_Tours</th>\n",
       "    </tr>\n",
       "  </thead>\n",
       "  <tbody>\n",
       "    <tr>\n",
       "      <th>count</th>\n",
       "      <td>18504.000000</td>\n",
       "      <td>18504.000000</td>\n",
       "      <td>18504.000000</td>\n",
       "      <td>18504.000000</td>\n",
       "      <td>18504.000000</td>\n",
       "      <td>18504.000000</td>\n",
       "      <td>18504.000000</td>\n",
       "      <td>18504.000000</td>\n",
       "      <td>18504.000000</td>\n",
       "      <td>18504.000000</td>\n",
       "      <td>...</td>\n",
       "      <td>18504.000000</td>\n",
       "      <td>18504.000000</td>\n",
       "      <td>18504.000000</td>\n",
       "      <td>18504.000000</td>\n",
       "      <td>18504.000000</td>\n",
       "      <td>18504.000000</td>\n",
       "      <td>18504.000000</td>\n",
       "      <td>18504.000000</td>\n",
       "      <td>18504.000000</td>\n",
       "      <td>18504.000000</td>\n",
       "    </tr>\n",
       "    <tr>\n",
       "      <th>mean</th>\n",
       "      <td>3.494596</td>\n",
       "      <td>1.660560</td>\n",
       "      <td>105.563013</td>\n",
       "      <td>0.174362</td>\n",
       "      <td>0.099019</td>\n",
       "      <td>0.137866</td>\n",
       "      <td>0.236334</td>\n",
       "      <td>0.352398</td>\n",
       "      <td>99.602346</td>\n",
       "      <td>0.113102</td>\n",
       "      <td>...</td>\n",
       "      <td>0.020033</td>\n",
       "      <td>0.047642</td>\n",
       "      <td>0.781128</td>\n",
       "      <td>0.514754</td>\n",
       "      <td>0.032425</td>\n",
       "      <td>0.004053</td>\n",
       "      <td>0.016645</td>\n",
       "      <td>0.127270</td>\n",
       "      <td>0.005404</td>\n",
       "      <td>0.001675</td>\n",
       "    </tr>\n",
       "    <tr>\n",
       "      <th>std</th>\n",
       "      <td>0.826648</td>\n",
       "      <td>0.614678</td>\n",
       "      <td>246.331886</td>\n",
       "      <td>0.186000</td>\n",
       "      <td>0.097856</td>\n",
       "      <td>0.116496</td>\n",
       "      <td>0.145424</td>\n",
       "      <td>0.238323</td>\n",
       "      <td>31.071554</td>\n",
       "      <td>0.109016</td>\n",
       "      <td>...</td>\n",
       "      <td>0.043585</td>\n",
       "      <td>0.067366</td>\n",
       "      <td>0.413493</td>\n",
       "      <td>0.499796</td>\n",
       "      <td>0.177132</td>\n",
       "      <td>0.063537</td>\n",
       "      <td>0.127941</td>\n",
       "      <td>0.333284</td>\n",
       "      <td>0.073317</td>\n",
       "      <td>0.040897</td>\n",
       "    </tr>\n",
       "    <tr>\n",
       "      <th>min</th>\n",
       "      <td>1.000000</td>\n",
       "      <td>1.000000</td>\n",
       "      <td>3.000000</td>\n",
       "      <td>0.000000</td>\n",
       "      <td>0.000000</td>\n",
       "      <td>0.000000</td>\n",
       "      <td>0.000000</td>\n",
       "      <td>0.000000</td>\n",
       "      <td>20.666667</td>\n",
       "      <td>0.000000</td>\n",
       "      <td>...</td>\n",
       "      <td>0.000000</td>\n",
       "      <td>0.000000</td>\n",
       "      <td>0.000000</td>\n",
       "      <td>0.000000</td>\n",
       "      <td>0.000000</td>\n",
       "      <td>0.000000</td>\n",
       "      <td>0.000000</td>\n",
       "      <td>0.000000</td>\n",
       "      <td>0.000000</td>\n",
       "      <td>0.000000</td>\n",
       "    </tr>\n",
       "    <tr>\n",
       "      <th>25%</th>\n",
       "      <td>3.000000</td>\n",
       "      <td>1.000000</td>\n",
       "      <td>10.000000</td>\n",
       "      <td>0.038701</td>\n",
       "      <td>0.025000</td>\n",
       "      <td>0.060176</td>\n",
       "      <td>0.142857</td>\n",
       "      <td>0.166667</td>\n",
       "      <td>80.233865</td>\n",
       "      <td>0.033898</td>\n",
       "      <td>...</td>\n",
       "      <td>0.000000</td>\n",
       "      <td>0.000000</td>\n",
       "      <td>1.000000</td>\n",
       "      <td>0.000000</td>\n",
       "      <td>0.000000</td>\n",
       "      <td>0.000000</td>\n",
       "      <td>0.000000</td>\n",
       "      <td>0.000000</td>\n",
       "      <td>0.000000</td>\n",
       "      <td>0.000000</td>\n",
       "    </tr>\n",
       "    <tr>\n",
       "      <th>50%</th>\n",
       "      <td>3.500000</td>\n",
       "      <td>2.000000</td>\n",
       "      <td>32.000000</td>\n",
       "      <td>0.112903</td>\n",
       "      <td>0.081286</td>\n",
       "      <td>0.121951</td>\n",
       "      <td>0.236559</td>\n",
       "      <td>0.333333</td>\n",
       "      <td>96.049524</td>\n",
       "      <td>0.095165</td>\n",
       "      <td>...</td>\n",
       "      <td>0.000000</td>\n",
       "      <td>0.030704</td>\n",
       "      <td>1.000000</td>\n",
       "      <td>1.000000</td>\n",
       "      <td>0.000000</td>\n",
       "      <td>0.000000</td>\n",
       "      <td>0.000000</td>\n",
       "      <td>0.000000</td>\n",
       "      <td>0.000000</td>\n",
       "      <td>0.000000</td>\n",
       "    </tr>\n",
       "    <tr>\n",
       "      <th>75%</th>\n",
       "      <td>4.000000</td>\n",
       "      <td>2.000000</td>\n",
       "      <td>100.000000</td>\n",
       "      <td>0.250000</td>\n",
       "      <td>0.142857</td>\n",
       "      <td>0.192308</td>\n",
       "      <td>0.329677</td>\n",
       "      <td>0.500000</td>\n",
       "      <td>114.263311</td>\n",
       "      <td>0.161290</td>\n",
       "      <td>...</td>\n",
       "      <td>0.024390</td>\n",
       "      <td>0.066057</td>\n",
       "      <td>1.000000</td>\n",
       "      <td>1.000000</td>\n",
       "      <td>0.000000</td>\n",
       "      <td>0.000000</td>\n",
       "      <td>0.000000</td>\n",
       "      <td>0.000000</td>\n",
       "      <td>0.000000</td>\n",
       "      <td>0.000000</td>\n",
       "    </tr>\n",
       "    <tr>\n",
       "      <th>max</th>\n",
       "      <td>5.000000</td>\n",
       "      <td>4.000000</td>\n",
       "      <td>7968.000000</td>\n",
       "      <td>1.000000</td>\n",
       "      <td>1.000000</td>\n",
       "      <td>1.000000</td>\n",
       "      <td>1.000000</td>\n",
       "      <td>1.125000</td>\n",
       "      <td>520.500000</td>\n",
       "      <td>1.000000</td>\n",
       "      <td>...</td>\n",
       "      <td>1.000000</td>\n",
       "      <td>1.000000</td>\n",
       "      <td>1.000000</td>\n",
       "      <td>1.000000</td>\n",
       "      <td>1.000000</td>\n",
       "      <td>1.000000</td>\n",
       "      <td>1.000000</td>\n",
       "      <td>1.000000</td>\n",
       "      <td>1.000000</td>\n",
       "      <td>1.000000</td>\n",
       "    </tr>\n",
       "  </tbody>\n",
       "</table>\n",
       "<p>8 rows × 23 columns</p>\n",
       "</div>"
      ],
      "text/plain": [
       "              stars         price  review_count   1star_ratio   2star_ratio  \\\n",
       "count  18504.000000  18504.000000  18504.000000  18504.000000  18504.000000   \n",
       "mean       3.494596      1.660560    105.563013      0.174362      0.099019   \n",
       "std        0.826648      0.614678    246.331886      0.186000      0.097856   \n",
       "min        1.000000      1.000000      3.000000      0.000000      0.000000   \n",
       "25%        3.000000      1.000000     10.000000      0.038701      0.025000   \n",
       "50%        3.500000      2.000000     32.000000      0.112903      0.081286   \n",
       "75%        4.000000      2.000000    100.000000      0.250000      0.142857   \n",
       "max        5.000000      4.000000   7968.000000      1.000000      1.000000   \n",
       "\n",
       "        3star_ratio   4star_ratio   5star_ratio    word_count  text_friendly  \\\n",
       "count  18504.000000  18504.000000  18504.000000  18504.000000   18504.000000   \n",
       "mean       0.137866      0.236334      0.352398     99.602346       0.113102   \n",
       "std        0.116496      0.145424      0.238323     31.071554       0.109016   \n",
       "min        0.000000      0.000000      0.000000     20.666667       0.000000   \n",
       "25%        0.060176      0.142857      0.166667     80.233865       0.033898   \n",
       "50%        0.121951      0.236559      0.333333     96.049524       0.095165   \n",
       "75%        0.192308      0.329677      0.500000    114.263311       0.161290   \n",
       "max        1.000000      1.000000      1.125000    520.500000       1.000000   \n",
       "\n",
       "       ...     text_easy    text_quick  cat_Restaurants      cat_Food  \\\n",
       "count  ...  18504.000000  18504.000000     18504.000000  18504.000000   \n",
       "mean   ...      0.020033      0.047642         0.781128      0.514754   \n",
       "std    ...      0.043585      0.067366         0.413493      0.499796   \n",
       "min    ...      0.000000      0.000000         0.000000      0.000000   \n",
       "25%    ...      0.000000      0.000000         1.000000      0.000000   \n",
       "50%    ...      0.000000      0.030704         1.000000      1.000000   \n",
       "75%    ...      0.024390      0.066057         1.000000      1.000000   \n",
       "max    ...      1.000000      1.000000         1.000000      1.000000   \n",
       "\n",
       "       cat_Shopping  cat_Active Life  cat_Arts & Entertainment  cat_Nightlife  \\\n",
       "count  18504.000000     18504.000000              18504.000000   18504.000000   \n",
       "mean       0.032425         0.004053                  0.016645       0.127270   \n",
       "std        0.177132         0.063537                  0.127941       0.333284   \n",
       "min        0.000000         0.000000                  0.000000       0.000000   \n",
       "25%        0.000000         0.000000                  0.000000       0.000000   \n",
       "50%        0.000000         0.000000                  0.000000       0.000000   \n",
       "75%        0.000000         0.000000                  0.000000       0.000000   \n",
       "max        1.000000         1.000000                  1.000000       1.000000   \n",
       "\n",
       "       cat_Hotels & Travel     cat_Tours  \n",
       "count         18504.000000  18504.000000  \n",
       "mean              0.005404      0.001675  \n",
       "std               0.073317      0.040897  \n",
       "min               0.000000      0.000000  \n",
       "25%               0.000000      0.000000  \n",
       "50%               0.000000      0.000000  \n",
       "75%               0.000000      0.000000  \n",
       "max               1.000000      1.000000  \n",
       "\n",
       "[8 rows x 23 columns]"
      ]
     },
     "execution_count": 192,
     "metadata": {},
     "output_type": "execute_result"
    }
   ],
   "source": [
    "business_features = [\n",
    " 'stars',\n",
    " 'price',\n",
    " 'review_count',\n",
    " '1star_ratio',\n",
    " '2star_ratio',\n",
    " '3star_ratio',\n",
    " '4star_ratio',\n",
    " '5star_ratio',\n",
    " 'word_count',\n",
    " 'text_friendly',\n",
    " 'text_reasonable',\n",
    " 'text_local',\n",
    " 'text_comfortable',\n",
    " 'text_easy',\n",
    " 'text_quick',\n",
    " 'cat_Restaurants',\n",
    " 'cat_Food',\n",
    " 'cat_Shopping',\n",
    " 'cat_Active Life',\n",
    " 'cat_Arts & Entertainment',\n",
    " 'cat_Nightlife',\n",
    " 'cat_Hotels & Travel',\n",
    " 'cat_Tours'\n",
    "]\n",
    "\n",
    "b[business_features].describe()"
   ]
  },
  {
   "cell_type": "markdown",
   "metadata": {},
   "source": [
    "### Explore the following transformations:\n",
    "    - Log\n",
    "    - StandardScaler\n",
    "    - MinMaxScaler"
   ]
  },
  {
   "cell_type": "code",
   "execution_count": 193,
   "metadata": {},
   "outputs": [],
   "source": [
    "scaler = StandardScaler()\n",
    "minmax = MinMaxScaler()"
   ]
  },
  {
   "cell_type": "code",
   "execution_count": 194,
   "metadata": {
    "scrolled": true
   },
   "outputs": [
    {
     "data": {
      "text/plain": [
       "count    18504.000000\n",
       "mean       105.563013\n",
       "std        246.331886\n",
       "min          3.000000\n",
       "25%         10.000000\n",
       "50%         32.000000\n",
       "75%        100.000000\n",
       "max       7968.000000\n",
       "Name: review_count, dtype: float64"
      ]
     },
     "execution_count": 194,
     "metadata": {},
     "output_type": "execute_result"
    },
    {
     "data": {
      "image/png": "[encoded data removed]",
      "text/plain": [
       "<Figure size 432x288 with 1 Axes>"
      ]
     },
     "metadata": {
      "needs_background": "light"
     },
     "output_type": "display_data"
    }
   ],
   "source": [
    "# examine review_count\n",
    "plt.hist(b.review_count)\n",
    "b.review_count.describe()"
   ]
  },
  {
   "cell_type": "code",
   "execution_count": 195,
   "metadata": {
    "scrolled": true
   },
   "outputs": [
    {
     "name": "stdout",
     "output_type": "stream",
     "text": [
      "count    18504.000000\n",
      "mean         3.594165\n",
      "std          1.429847\n",
      "min          1.386294\n",
      "25%          2.397895\n",
      "50%          3.496508\n",
      "75%          4.615121\n",
      "max          8.983314\n",
      "dtype: float64\n"
     ]
    },
    {
     "data": {
      "image/png": "[encoded data removed]",
      "text/plain": [
       "<Figure size 432x288 with 1 Axes>"
      ]
     },
     "metadata": {
      "needs_background": "light"
     },
     "output_type": "display_data"
    }
   ],
   "source": [
    "# examine log review_count\n",
    "plt.hist(pd.Series([math.log(x+1) for x in b.review_count]))\n",
    "print(pd.Series([math.log(x+1) for x in b.review_count]).describe())"
   ]
  },
  {
   "cell_type": "code",
   "execution_count": 196,
   "metadata": {},
   "outputs": [
    {
     "name": "stdout",
     "output_type": "stream",
     "text": [
      "DescribeResult(nobs=18504, minmax=(array([-0.41637234]), array([31.91892684])), mean=array([3.83994129e-19]), variance=array([1.00005405]), skewness=array([10.13539868]), kurtosis=array([197.58280952]))\n"
     ]
    },
    {
     "name": "stderr",
     "output_type": "stream",
     "text": [
      "C:\\Users\\mm4me\\Anaconda3\\lib\\site-packages\\sklearn\\utils\\validation.py:590: DataConversionWarning: Data with input dtype int64 was converted to float64 by StandardScaler.\n",
      "  warnings.warn(msg, DataConversionWarning)\n",
      "C:\\Users\\mm4me\\Anaconda3\\lib\\site-packages\\sklearn\\utils\\validation.py:590: DataConversionWarning: Data with input dtype int64 was converted to float64 by StandardScaler.\n",
      "  warnings.warn(msg, DataConversionWarning)\n",
      "C:\\Users\\mm4me\\Anaconda3\\lib\\site-packages\\sklearn\\utils\\validation.py:590: DataConversionWarning: Data with input dtype int64 was converted to float64 by StandardScaler.\n",
      "  warnings.warn(msg, DataConversionWarning)\n",
      "C:\\Users\\mm4me\\Anaconda3\\lib\\site-packages\\sklearn\\utils\\validation.py:590: DataConversionWarning: Data with input dtype int64 was converted to float64 by StandardScaler.\n",
      "  warnings.warn(msg, DataConversionWarning)\n"
     ]
    },
    {
     "data": {
      "image/png": "[encoded data removed]",
      "text/plain": [
       "<Figure size 432x288 with 1 Axes>"
      ]
     },
     "metadata": {
      "needs_background": "light"
     },
     "output_type": "display_data"
    }
   ],
   "source": [
    "# examine scaled review_count\n",
    "plt.hist(scaler.fit_transform(np.array(b.review_count).reshape(-1,1)))\n",
    "print(stats.describe(scaler.fit_transform(np.array(b.review_count).reshape(-1,1))))"
   ]
  },
  {
   "cell_type": "code",
   "execution_count": 197,
   "metadata": {
    "scrolled": true
   },
   "outputs": [
    {
     "name": "stderr",
     "output_type": "stream",
     "text": [
      "C:\\Users\\mm4me\\Anaconda3\\lib\\site-packages\\sklearn\\utils\\validation.py:590: DataConversionWarning: Data with input dtype int64 was converted to float64 by MinMaxScaler.\n",
      "  warnings.warn(msg, DataConversionWarning)\n"
     ]
    },
    {
     "name": "stdout",
     "output_type": "stream",
     "text": [
      "DescribeResult(nobs=18504, minmax=(array([0.]), array([1.])), mean=array([0.01287671]), variance=array([0.00095647]), skewness=array([10.13539868]), kurtosis=array([197.58280952]))\n"
     ]
    },
    {
     "name": "stderr",
     "output_type": "stream",
     "text": [
      "C:\\Users\\mm4me\\Anaconda3\\lib\\site-packages\\sklearn\\utils\\validation.py:590: DataConversionWarning: Data with input dtype int64 was converted to float64 by MinMaxScaler.\n",
      "  warnings.warn(msg, DataConversionWarning)\n"
     ]
    },
    {
     "data": {
      "image/png": "[encoded data removed]",
      "text/plain": [
       "<Figure size 432x288 with 1 Axes>"
      ]
     },
     "metadata": {
      "needs_background": "light"
     },
     "output_type": "display_data"
    }
   ],
   "source": [
    "# examine minmax review_count\n",
    "plt.hist(minmax.fit_transform(np.array(b.review_count).reshape(-1,1)))\n",
    "print(stats.describe(minmax.fit_transform(np.array(b.review_count).reshape(-1,1))))"
   ]
  },
  {
   "cell_type": "code",
   "execution_count": 198,
   "metadata": {},
   "outputs": [],
   "source": [
    "# log review_count\n",
    "b[\"review_count\"] = [math.log(x+1) for x in b.review_count]"
   ]
  },
  {
   "cell_type": "code",
   "execution_count": 199,
   "metadata": {},
   "outputs": [
    {
     "data": {
      "text/html": [
       "<div>\n",
       "<style scoped>\n",
       "    .dataframe tbody tr th:only-of-type {\n",
       "        vertical-align: middle;\n",
       "    }\n",
       "\n",
       "    .dataframe tbody tr th {\n",
       "        vertical-align: top;\n",
       "    }\n",
       "\n",
       "    .dataframe thead th {\n",
       "        text-align: right;\n",
       "    }\n",
       "</style>\n",
       "<table border=\"1\" class=\"dataframe\">\n",
       "  <thead>\n",
       "    <tr style=\"text-align: right;\">\n",
       "      <th></th>\n",
       "      <th>name</th>\n",
       "      <th>city</th>\n",
       "      <th>las_vegas</th>\n",
       "      <th>stars</th>\n",
       "      <th>price</th>\n",
       "      <th>review_count</th>\n",
       "      <th>1star_ratio</th>\n",
       "      <th>2star_ratio</th>\n",
       "      <th>3star_ratio</th>\n",
       "      <th>4star_ratio</th>\n",
       "      <th>...</th>\n",
       "      <th>Thai</th>\n",
       "      <th>Turkish</th>\n",
       "      <th>Vegan</th>\n",
       "      <th>Vegetarian</th>\n",
       "      <th>Venues &amp; Event Spaces</th>\n",
       "      <th>Vietnamese</th>\n",
       "      <th>Waffles</th>\n",
       "      <th>Wine &amp; Spirits</th>\n",
       "      <th>Wine Bars</th>\n",
       "      <th>Wraps</th>\n",
       "    </tr>\n",
       "    <tr>\n",
       "      <th>business_id</th>\n",
       "      <th></th>\n",
       "      <th></th>\n",
       "      <th></th>\n",
       "      <th></th>\n",
       "      <th></th>\n",
       "      <th></th>\n",
       "      <th></th>\n",
       "      <th></th>\n",
       "      <th></th>\n",
       "      <th></th>\n",
       "      <th></th>\n",
       "      <th></th>\n",
       "      <th></th>\n",
       "      <th></th>\n",
       "      <th></th>\n",
       "      <th></th>\n",
       "      <th></th>\n",
       "      <th></th>\n",
       "      <th></th>\n",
       "      <th></th>\n",
       "      <th></th>\n",
       "    </tr>\n",
       "  </thead>\n",
       "  <tbody>\n",
       "    <tr>\n",
       "      <th>--9e1ONYQuAa-CB_Rrw7Tw</th>\n",
       "      <td>Delmonico Steakhouse</td>\n",
       "      <td>Las Vegas</td>\n",
       "      <td>1</td>\n",
       "      <td>4.0</td>\n",
       "      <td>4.0</td>\n",
       "      <td>7.344073</td>\n",
       "      <td>0.032988</td>\n",
       "      <td>0.088616</td>\n",
       "      <td>0.113842</td>\n",
       "      <td>0.271669</td>\n",
       "      <td>...</td>\n",
       "      <td>0</td>\n",
       "      <td>0</td>\n",
       "      <td>0</td>\n",
       "      <td>0</td>\n",
       "      <td>0</td>\n",
       "      <td>0</td>\n",
       "      <td>0</td>\n",
       "      <td>0</td>\n",
       "      <td>0</td>\n",
       "      <td>0</td>\n",
       "    </tr>\n",
       "    <tr>\n",
       "      <th>--DaPTJW3-tB1vP-PfdTEg</th>\n",
       "      <td>Sunnyside Grill</td>\n",
       "      <td>Toronto</td>\n",
       "      <td>0</td>\n",
       "      <td>3.5</td>\n",
       "      <td>2.0</td>\n",
       "      <td>3.828641</td>\n",
       "      <td>0.088889</td>\n",
       "      <td>0.066667</td>\n",
       "      <td>0.200000</td>\n",
       "      <td>0.355556</td>\n",
       "      <td>...</td>\n",
       "      <td>0</td>\n",
       "      <td>0</td>\n",
       "      <td>0</td>\n",
       "      <td>0</td>\n",
       "      <td>0</td>\n",
       "      <td>0</td>\n",
       "      <td>0</td>\n",
       "      <td>0</td>\n",
       "      <td>0</td>\n",
       "      <td>0</td>\n",
       "    </tr>\n",
       "    <tr>\n",
       "      <th>--KCl2FvVQpvjzmZSPyviA</th>\n",
       "      <td>Hungry Howie's Pizza</td>\n",
       "      <td>Charlotte</td>\n",
       "      <td>0</td>\n",
       "      <td>3.0</td>\n",
       "      <td>1.0</td>\n",
       "      <td>2.639057</td>\n",
       "      <td>0.230769</td>\n",
       "      <td>0.153846</td>\n",
       "      <td>0.230769</td>\n",
       "      <td>0.076923</td>\n",
       "      <td>...</td>\n",
       "      <td>0</td>\n",
       "      <td>0</td>\n",
       "      <td>0</td>\n",
       "      <td>0</td>\n",
       "      <td>0</td>\n",
       "      <td>0</td>\n",
       "      <td>0</td>\n",
       "      <td>0</td>\n",
       "      <td>0</td>\n",
       "      <td>0</td>\n",
       "    </tr>\n",
       "    <tr>\n",
       "      <th>--cZ6Hhc9F7VkKXxHMVZSQ</th>\n",
       "      <td>Pio Pio</td>\n",
       "      <td>Charlotte</td>\n",
       "      <td>0</td>\n",
       "      <td>4.0</td>\n",
       "      <td>2.0</td>\n",
       "      <td>5.811141</td>\n",
       "      <td>0.066066</td>\n",
       "      <td>0.066066</td>\n",
       "      <td>0.129129</td>\n",
       "      <td>0.333333</td>\n",
       "      <td>...</td>\n",
       "      <td>0</td>\n",
       "      <td>0</td>\n",
       "      <td>0</td>\n",
       "      <td>0</td>\n",
       "      <td>0</td>\n",
       "      <td>0</td>\n",
       "      <td>0</td>\n",
       "      <td>0</td>\n",
       "      <td>0</td>\n",
       "      <td>0</td>\n",
       "    </tr>\n",
       "    <tr>\n",
       "      <th>-01XupAWZEXbdNbxNg5mEg</th>\n",
       "      <td>18 Degrees Neighborhood Grill</td>\n",
       "      <td>Scottsdale</td>\n",
       "      <td>0</td>\n",
       "      <td>3.0</td>\n",
       "      <td>2.0</td>\n",
       "      <td>4.418841</td>\n",
       "      <td>0.243902</td>\n",
       "      <td>0.170732</td>\n",
       "      <td>0.207317</td>\n",
       "      <td>0.268293</td>\n",
       "      <td>...</td>\n",
       "      <td>0</td>\n",
       "      <td>0</td>\n",
       "      <td>0</td>\n",
       "      <td>0</td>\n",
       "      <td>0</td>\n",
       "      <td>0</td>\n",
       "      <td>0</td>\n",
       "      <td>0</td>\n",
       "      <td>0</td>\n",
       "      <td>0</td>\n",
       "    </tr>\n",
       "  </tbody>\n",
       "</table>\n",
       "<p>5 rows × 202 columns</p>\n",
       "</div>"
      ],
      "text/plain": [
       "                                                 name        city  las_vegas  \\\n",
       "business_id                                                                    \n",
       "--9e1ONYQuAa-CB_Rrw7Tw           Delmonico Steakhouse   Las Vegas          1   \n",
       "--DaPTJW3-tB1vP-PfdTEg                Sunnyside Grill     Toronto          0   \n",
       "--KCl2FvVQpvjzmZSPyviA           Hungry Howie's Pizza   Charlotte          0   \n",
       "--cZ6Hhc9F7VkKXxHMVZSQ                        Pio Pio   Charlotte          0   \n",
       "-01XupAWZEXbdNbxNg5mEg  18 Degrees Neighborhood Grill  Scottsdale          0   \n",
       "\n",
       "                        stars  price  review_count  1star_ratio  2star_ratio  \\\n",
       "business_id                                                                    \n",
       "--9e1ONYQuAa-CB_Rrw7Tw    4.0    4.0      7.344073     0.032988     0.088616   \n",
       "--DaPTJW3-tB1vP-PfdTEg    3.5    2.0      3.828641     0.088889     0.066667   \n",
       "--KCl2FvVQpvjzmZSPyviA    3.0    1.0      2.639057     0.230769     0.153846   \n",
       "--cZ6Hhc9F7VkKXxHMVZSQ    4.0    2.0      5.811141     0.066066     0.066066   \n",
       "-01XupAWZEXbdNbxNg5mEg    3.0    2.0      4.418841     0.243902     0.170732   \n",
       "\n",
       "                        3star_ratio  4star_ratio  ...  Thai Turkish  Vegan  \\\n",
       "business_id                                       ...                        \n",
       "--9e1ONYQuAa-CB_Rrw7Tw     0.113842     0.271669  ...     0       0      0   \n",
       "--DaPTJW3-tB1vP-PfdTEg     0.200000     0.355556  ...     0       0      0   \n",
       "--KCl2FvVQpvjzmZSPyviA     0.230769     0.076923  ...     0       0      0   \n",
       "--cZ6Hhc9F7VkKXxHMVZSQ     0.129129     0.333333  ...     0       0      0   \n",
       "-01XupAWZEXbdNbxNg5mEg     0.207317     0.268293  ...     0       0      0   \n",
       "\n",
       "                        Vegetarian  Venues & Event Spaces  Vietnamese  \\\n",
       "business_id                                                             \n",
       "--9e1ONYQuAa-CB_Rrw7Tw           0                      0           0   \n",
       "--DaPTJW3-tB1vP-PfdTEg           0                      0           0   \n",
       "--KCl2FvVQpvjzmZSPyviA           0                      0           0   \n",
       "--cZ6Hhc9F7VkKXxHMVZSQ           0                      0           0   \n",
       "-01XupAWZEXbdNbxNg5mEg           0                      0           0   \n",
       "\n",
       "                        Waffles  Wine & Spirits  Wine Bars  Wraps  \n",
       "business_id                                                        \n",
       "--9e1ONYQuAa-CB_Rrw7Tw        0               0          0      0  \n",
       "--DaPTJW3-tB1vP-PfdTEg        0               0          0      0  \n",
       "--KCl2FvVQpvjzmZSPyviA        0               0          0      0  \n",
       "--cZ6Hhc9F7VkKXxHMVZSQ        0               0          0      0  \n",
       "-01XupAWZEXbdNbxNg5mEg        0               0          0      0  \n",
       "\n",
       "[5 rows x 202 columns]"
      ]
     },
     "execution_count": 199,
     "metadata": {},
     "output_type": "execute_result"
    }
   ],
   "source": [
    "b.head()"
   ]
  },
  {
   "cell_type": "markdown",
   "metadata": {},
   "source": [
    "#### word_count"
   ]
  },
  {
   "cell_type": "code",
   "execution_count": 200,
   "metadata": {
    "scrolled": true
   },
   "outputs": [
    {
     "data": {
      "text/plain": [
       "count    18504.000000\n",
       "mean        99.602346\n",
       "std         31.071554\n",
       "min         20.666667\n",
       "25%         80.233865\n",
       "50%         96.049524\n",
       "75%        114.263311\n",
       "max        520.500000\n",
       "Name: word_count, dtype: float64"
      ]
     },
     "execution_count": 200,
     "metadata": {},
     "output_type": "execute_result"
    },
    {
     "data": {
      "image/png": "[encoded data removed]",
      "text/plain": [
       "<Figure size 432x288 with 1 Axes>"
      ]
     },
     "metadata": {
      "needs_background": "light"
     },
     "output_type": "display_data"
    }
   ],
   "source": [
    "# examine word_count\n",
    "plt.hist(b.word_count)\n",
    "b.word_count.describe()"
   ]
  },
  {
   "cell_type": "code",
   "execution_count": 201,
   "metadata": {
    "scrolled": true
   },
   "outputs": [
    {
     "name": "stdout",
     "output_type": "stream",
     "text": [
      "count    18504.000000\n",
      "mean         4.566147\n",
      "std          0.302522\n",
      "min          3.075775\n",
      "25%          4.397332\n",
      "50%          4.575221\n",
      "75%          4.747219\n",
      "max          6.256709\n",
      "dtype: float64\n"
     ]
    },
    {
     "data": {
      "image/png": "[encoded data removed]",
      "text/plain": [
       "<Figure size 432x288 with 1 Axes>"
      ]
     },
     "metadata": {
      "needs_background": "light"
     },
     "output_type": "display_data"
    }
   ],
   "source": [
    "# examine log word_count\n",
    "plt.hist(pd.Series([math.log(x+1) for x in b.word_count]))\n",
    "print(pd.Series([math.log(x+1) for x in b.word_count]).describe())"
   ]
  },
  {
   "cell_type": "code",
   "execution_count": 202,
   "metadata": {},
   "outputs": [],
   "source": [
    "# log word_count\n",
    "b.word_count = [math.log(x+1) for x in b.word_count]"
   ]
  },
  {
   "cell_type": "code",
   "execution_count": 203,
   "metadata": {},
   "outputs": [
    {
     "data": {
      "text/html": [
       "<div>\n",
       "<style scoped>\n",
       "    .dataframe tbody tr th:only-of-type {\n",
       "        vertical-align: middle;\n",
       "    }\n",
       "\n",
       "    .dataframe tbody tr th {\n",
       "        vertical-align: top;\n",
       "    }\n",
       "\n",
       "    .dataframe thead th {\n",
       "        text-align: right;\n",
       "    }\n",
       "</style>\n",
       "<table border=\"1\" class=\"dataframe\">\n",
       "  <thead>\n",
       "    <tr style=\"text-align: right;\">\n",
       "      <th></th>\n",
       "      <th>name</th>\n",
       "      <th>city</th>\n",
       "      <th>las_vegas</th>\n",
       "      <th>stars</th>\n",
       "      <th>price</th>\n",
       "      <th>review_count</th>\n",
       "      <th>1star_ratio</th>\n",
       "      <th>2star_ratio</th>\n",
       "      <th>3star_ratio</th>\n",
       "      <th>4star_ratio</th>\n",
       "      <th>...</th>\n",
       "      <th>Thai</th>\n",
       "      <th>Turkish</th>\n",
       "      <th>Vegan</th>\n",
       "      <th>Vegetarian</th>\n",
       "      <th>Venues &amp; Event Spaces</th>\n",
       "      <th>Vietnamese</th>\n",
       "      <th>Waffles</th>\n",
       "      <th>Wine &amp; Spirits</th>\n",
       "      <th>Wine Bars</th>\n",
       "      <th>Wraps</th>\n",
       "    </tr>\n",
       "    <tr>\n",
       "      <th>business_id</th>\n",
       "      <th></th>\n",
       "      <th></th>\n",
       "      <th></th>\n",
       "      <th></th>\n",
       "      <th></th>\n",
       "      <th></th>\n",
       "      <th></th>\n",
       "      <th></th>\n",
       "      <th></th>\n",
       "      <th></th>\n",
       "      <th></th>\n",
       "      <th></th>\n",
       "      <th></th>\n",
       "      <th></th>\n",
       "      <th></th>\n",
       "      <th></th>\n",
       "      <th></th>\n",
       "      <th></th>\n",
       "      <th></th>\n",
       "      <th></th>\n",
       "      <th></th>\n",
       "    </tr>\n",
       "  </thead>\n",
       "  <tbody>\n",
       "    <tr>\n",
       "      <th>--9e1ONYQuAa-CB_Rrw7Tw</th>\n",
       "      <td>Delmonico Steakhouse</td>\n",
       "      <td>Las Vegas</td>\n",
       "      <td>1</td>\n",
       "      <td>4.0</td>\n",
       "      <td>4.0</td>\n",
       "      <td>7.344073</td>\n",
       "      <td>0.032988</td>\n",
       "      <td>0.088616</td>\n",
       "      <td>0.113842</td>\n",
       "      <td>0.271669</td>\n",
       "      <td>...</td>\n",
       "      <td>0</td>\n",
       "      <td>0</td>\n",
       "      <td>0</td>\n",
       "      <td>0</td>\n",
       "      <td>0</td>\n",
       "      <td>0</td>\n",
       "      <td>0</td>\n",
       "      <td>0</td>\n",
       "      <td>0</td>\n",
       "      <td>0</td>\n",
       "    </tr>\n",
       "    <tr>\n",
       "      <th>--DaPTJW3-tB1vP-PfdTEg</th>\n",
       "      <td>Sunnyside Grill</td>\n",
       "      <td>Toronto</td>\n",
       "      <td>0</td>\n",
       "      <td>3.5</td>\n",
       "      <td>2.0</td>\n",
       "      <td>3.828641</td>\n",
       "      <td>0.088889</td>\n",
       "      <td>0.066667</td>\n",
       "      <td>0.200000</td>\n",
       "      <td>0.355556</td>\n",
       "      <td>...</td>\n",
       "      <td>0</td>\n",
       "      <td>0</td>\n",
       "      <td>0</td>\n",
       "      <td>0</td>\n",
       "      <td>0</td>\n",
       "      <td>0</td>\n",
       "      <td>0</td>\n",
       "      <td>0</td>\n",
       "      <td>0</td>\n",
       "      <td>0</td>\n",
       "    </tr>\n",
       "    <tr>\n",
       "      <th>--KCl2FvVQpvjzmZSPyviA</th>\n",
       "      <td>Hungry Howie's Pizza</td>\n",
       "      <td>Charlotte</td>\n",
       "      <td>0</td>\n",
       "      <td>3.0</td>\n",
       "      <td>1.0</td>\n",
       "      <td>2.639057</td>\n",
       "      <td>0.230769</td>\n",
       "      <td>0.153846</td>\n",
       "      <td>0.230769</td>\n",
       "      <td>0.076923</td>\n",
       "      <td>...</td>\n",
       "      <td>0</td>\n",
       "      <td>0</td>\n",
       "      <td>0</td>\n",
       "      <td>0</td>\n",
       "      <td>0</td>\n",
       "      <td>0</td>\n",
       "      <td>0</td>\n",
       "      <td>0</td>\n",
       "      <td>0</td>\n",
       "      <td>0</td>\n",
       "    </tr>\n",
       "    <tr>\n",
       "      <th>--cZ6Hhc9F7VkKXxHMVZSQ</th>\n",
       "      <td>Pio Pio</td>\n",
       "      <td>Charlotte</td>\n",
       "      <td>0</td>\n",
       "      <td>4.0</td>\n",
       "      <td>2.0</td>\n",
       "      <td>5.811141</td>\n",
       "      <td>0.066066</td>\n",
       "      <td>0.066066</td>\n",
       "      <td>0.129129</td>\n",
       "      <td>0.333333</td>\n",
       "      <td>...</td>\n",
       "      <td>0</td>\n",
       "      <td>0</td>\n",
       "      <td>0</td>\n",
       "      <td>0</td>\n",
       "      <td>0</td>\n",
       "      <td>0</td>\n",
       "      <td>0</td>\n",
       "      <td>0</td>\n",
       "      <td>0</td>\n",
       "      <td>0</td>\n",
       "    </tr>\n",
       "    <tr>\n",
       "      <th>-01XupAWZEXbdNbxNg5mEg</th>\n",
       "      <td>18 Degrees Neighborhood Grill</td>\n",
       "      <td>Scottsdale</td>\n",
       "      <td>0</td>\n",
       "      <td>3.0</td>\n",
       "      <td>2.0</td>\n",
       "      <td>4.418841</td>\n",
       "      <td>0.243902</td>\n",
       "      <td>0.170732</td>\n",
       "      <td>0.207317</td>\n",
       "      <td>0.268293</td>\n",
       "      <td>...</td>\n",
       "      <td>0</td>\n",
       "      <td>0</td>\n",
       "      <td>0</td>\n",
       "      <td>0</td>\n",
       "      <td>0</td>\n",
       "      <td>0</td>\n",
       "      <td>0</td>\n",
       "      <td>0</td>\n",
       "      <td>0</td>\n",
       "      <td>0</td>\n",
       "    </tr>\n",
       "  </tbody>\n",
       "</table>\n",
       "<p>5 rows × 202 columns</p>\n",
       "</div>"
      ],
      "text/plain": [
       "                                                 name        city  las_vegas  \\\n",
       "business_id                                                                    \n",
       "--9e1ONYQuAa-CB_Rrw7Tw           Delmonico Steakhouse   Las Vegas          1   \n",
       "--DaPTJW3-tB1vP-PfdTEg                Sunnyside Grill     Toronto          0   \n",
       "--KCl2FvVQpvjzmZSPyviA           Hungry Howie's Pizza   Charlotte          0   \n",
       "--cZ6Hhc9F7VkKXxHMVZSQ                        Pio Pio   Charlotte          0   \n",
       "-01XupAWZEXbdNbxNg5mEg  18 Degrees Neighborhood Grill  Scottsdale          0   \n",
       "\n",
       "                        stars  price  review_count  1star_ratio  2star_ratio  \\\n",
       "business_id                                                                    \n",
       "--9e1ONYQuAa-CB_Rrw7Tw    4.0    4.0      7.344073     0.032988     0.088616   \n",
       "--DaPTJW3-tB1vP-PfdTEg    3.5    2.0      3.828641     0.088889     0.066667   \n",
       "--KCl2FvVQpvjzmZSPyviA    3.0    1.0      2.639057     0.230769     0.153846   \n",
       "--cZ6Hhc9F7VkKXxHMVZSQ    4.0    2.0      5.811141     0.066066     0.066066   \n",
       "-01XupAWZEXbdNbxNg5mEg    3.0    2.0      4.418841     0.243902     0.170732   \n",
       "\n",
       "                        3star_ratio  4star_ratio  ...  Thai Turkish  Vegan  \\\n",
       "business_id                                       ...                        \n",
       "--9e1ONYQuAa-CB_Rrw7Tw     0.113842     0.271669  ...     0       0      0   \n",
       "--DaPTJW3-tB1vP-PfdTEg     0.200000     0.355556  ...     0       0      0   \n",
       "--KCl2FvVQpvjzmZSPyviA     0.230769     0.076923  ...     0       0      0   \n",
       "--cZ6Hhc9F7VkKXxHMVZSQ     0.129129     0.333333  ...     0       0      0   \n",
       "-01XupAWZEXbdNbxNg5mEg     0.207317     0.268293  ...     0       0      0   \n",
       "\n",
       "                        Vegetarian  Venues & Event Spaces  Vietnamese  \\\n",
       "business_id                                                             \n",
       "--9e1ONYQuAa-CB_Rrw7Tw           0                      0           0   \n",
       "--DaPTJW3-tB1vP-PfdTEg           0                      0           0   \n",
       "--KCl2FvVQpvjzmZSPyviA           0                      0           0   \n",
       "--cZ6Hhc9F7VkKXxHMVZSQ           0                      0           0   \n",
       "-01XupAWZEXbdNbxNg5mEg           0                      0           0   \n",
       "\n",
       "                        Waffles  Wine & Spirits  Wine Bars  Wraps  \n",
       "business_id                                                        \n",
       "--9e1ONYQuAa-CB_Rrw7Tw        0               0          0      0  \n",
       "--DaPTJW3-tB1vP-PfdTEg        0               0          0      0  \n",
       "--KCl2FvVQpvjzmZSPyviA        0               0          0      0  \n",
       "--cZ6Hhc9F7VkKXxHMVZSQ        0               0          0      0  \n",
       "-01XupAWZEXbdNbxNg5mEg        0               0          0      0  \n",
       "\n",
       "[5 rows x 202 columns]"
      ]
     },
     "execution_count": 203,
     "metadata": {},
     "output_type": "execute_result"
    }
   ],
   "source": [
    "b.head()"
   ]
  },
  {
   "cell_type": "markdown",
   "metadata": {},
   "source": [
    "#### stars"
   ]
  },
  {
   "cell_type": "code",
   "execution_count": 90,
   "metadata": {
    "scrolled": true
   },
   "outputs": [
    {
     "data": {
      "text/plain": [
       "4.0    4657\n",
       "3.5    4228\n",
       "3.0    2955\n",
       "4.5    2497\n",
       "2.5    1828\n",
       "2.0    1091\n",
       "5.0     734\n",
       "1.5     401\n",
       "1.0     113\n",
       "Name: stars, dtype: int64"
      ]
     },
     "execution_count": 90,
     "metadata": {},
     "output_type": "execute_result"
    },
    {
     "data": {
      "image/png": "[encoded data removed]",
      "text/plain": [
       "<Figure size 432x288 with 1 Axes>"
      ]
     },
     "metadata": {
      "needs_background": "light"
     },
     "output_type": "display_data"
    }
   ],
   "source": [
    "# examine stars\n",
    "plt.hist(b.stars)\n",
    "b.stars.value_counts()"
   ]
  },
  {
   "cell_type": "markdown",
   "metadata": {},
   "source": [
    "#### price"
   ]
  },
  {
   "cell_type": "code",
   "execution_count": 89,
   "metadata": {
    "scrolled": false
   },
   "outputs": [
    {
     "data": {
      "text/plain": [
       "2.0    9915\n",
       "1.0    7524\n",
       "3.0     887\n",
       "4.0     178\n",
       "Name: price, dtype: int64"
      ]
     },
     "execution_count": 89,
     "metadata": {},
     "output_type": "execute_result"
    },
    {
     "data": {
      "image/png": "[encoded data removed]",
      "text/plain": [
       "<Figure size 432x288 with 1 Axes>"
      ]
     },
     "metadata": {
      "needs_background": "light"
     },
     "output_type": "display_data"
    }
   ],
   "source": [
    "# examine price\n",
    "plt.hist(b.price)\n",
    "b.price.value_counts()"
   ]
  },
  {
   "cell_type": "markdown",
   "metadata": {},
   "source": [
    "#### 1star_ratio"
   ]
  },
  {
   "cell_type": "code",
   "execution_count": 92,
   "metadata": {
    "scrolled": true
   },
   "outputs": [
    {
     "data": {
      "text/plain": [
       "count    18504.000000\n",
       "mean         0.174362\n",
       "std          0.186000\n",
       "min          0.000000\n",
       "25%          0.038701\n",
       "50%          0.112903\n",
       "75%          0.250000\n",
       "max          1.000000\n",
       "Name: 1star_ratio, dtype: float64"
      ]
     },
     "execution_count": 92,
     "metadata": {},
     "output_type": "execute_result"
    },
    {
     "data": {
      "image/png": "[encoded data removed]",
      "text/plain": [
       "<Figure size 432x288 with 1 Axes>"
      ]
     },
     "metadata": {
      "needs_background": "light"
     },
     "output_type": "display_data"
    }
   ],
   "source": [
    "# examine 1star_ratio\n",
    "plt.hist(b['1star_ratio'])\n",
    "b['1star_ratio'].describe()"
   ]
  },
  {
   "cell_type": "code",
   "execution_count": 106,
   "metadata": {
    "scrolled": true
   },
   "outputs": [
    {
     "name": "stdout",
     "output_type": "stream",
     "text": [
      "count    18504.000000\n",
      "mean         0.286757\n",
      "std          0.173143\n",
      "min          0.000000\n",
      "25%          0.154151\n",
      "50%          0.287682\n",
      "75%          0.405465\n",
      "max          0.753772\n",
      "dtype: float64\n"
     ]
    },
    {
     "data": {
      "image/png": "[encoded data removed]",
      "text/plain": [
       "<Figure size 432x288 with 1 Axes>"
      ]
     },
     "metadata": {
      "needs_background": "light"
     },
     "output_type": "display_data"
    }
   ],
   "source": [
    "# examine log 1star_ratio\n",
    "plt.hist(pd.Series([math.log(x+1) for x in b['5star_ratio']]))\n",
    "print(pd.Series([math.log(x+1) for x in b['5star_ratio']]).describe())"
   ]
  },
  {
   "cell_type": "code",
   "execution_count": 107,
   "metadata": {},
   "outputs": [
    {
     "name": "stdout",
     "output_type": "stream",
     "text": [
      "DescribeResult(nobs=18504, minmax=(array([-1.47869529]), array([3.24191092])), mean=array([4.83832602e-17]), variance=array([1.00005405]), skewness=array([0.54288604]), kurtosis=array([-0.21417411]))\n"
     ]
    },
    {
     "data": {
      "image/png": "[encoded data removed]",
      "text/plain": [
       "<Figure size 432x288 with 1 Axes>"
      ]
     },
     "metadata": {
      "needs_background": "light"
     },
     "output_type": "display_data"
    }
   ],
   "source": [
    "# examine scaled 1star_ratio\n",
    "plt.hist(scaler.fit_transform(np.array(b['5star_ratio']).reshape(-1,1)))\n",
    "print(stats.describe(scaler.fit_transform(np.array(b['5star_ratio']).reshape(-1,1))))"
   ]
  },
  {
   "cell_type": "code",
   "execution_count": 108,
   "metadata": {
    "scrolled": false
   },
   "outputs": [
    {
     "name": "stdout",
     "output_type": "stream",
     "text": [
      "DescribeResult(nobs=18504, minmax=(array([0.]), array([1.])), mean=array([0.31324267]), variance=array([0.04487742]), skewness=array([0.54288604]), kurtosis=array([-0.21417411]))\n"
     ]
    },
    {
     "data": {
      "image/png": "[encoded data removed]",
      "text/plain": [
       "<Figure size 432x288 with 1 Axes>"
      ]
     },
     "metadata": {
      "needs_background": "light"
     },
     "output_type": "display_data"
    }
   ],
   "source": [
    "# examine minmax 1star_ratio\n",
    "plt.hist(minmax.fit_transform(np.array(b['5star_ratio']).reshape(-1,1)))\n",
    "print(stats.describe(minmax.fit_transform(np.array(b['5star_ratio']).reshape(-1,1))))"
   ]
  },
  {
   "cell_type": "markdown",
   "metadata": {},
   "source": [
    "#### text_friendly"
   ]
  },
  {
   "cell_type": "code",
   "execution_count": 118,
   "metadata": {},
   "outputs": [
    {
     "name": "stdout",
     "output_type": "stream",
     "text": [
      "0.2996649373108517\n",
      "0.4718979680069174\n",
      "0.7852356247297881\n",
      "0.4301772589710333\n",
      "0.6374297449200172\n",
      "0.4474708171206226\n"
     ]
    }
   ],
   "source": [
    "print(b[b.text_comfortable > 0].shape[0]/b.shape[0])\n",
    "print(b[b.text_easy > 0].shape[0]/b.shape[0])\n",
    "print(b[b.text_friendly > 0].shape[0]/b.shape[0])\n",
    "print(b[b.text_local > 0].shape[0]/b.shape[0])\n",
    "print(b[b.text_quick > 0].shape[0]/b.shape[0])\n",
    "print(b[b.text_reasonable > 0].shape[0]/b.shape[0])"
   ]
  },
  {
   "cell_type": "code",
   "execution_count": 112,
   "metadata": {
    "scrolled": true
   },
   "outputs": [
    {
     "name": "stdout",
     "output_type": "stream",
     "text": [
      "count    18504.000000\n",
      "mean         0.113102\n",
      "std          0.109016\n",
      "min          0.000000\n",
      "25%          0.033898\n",
      "50%          0.095165\n",
      "75%          0.161290\n",
      "max          1.000000\n",
      "Name: text_friendly, dtype: float64\n"
     ]
    },
    {
     "data": {
      "image/png": "[encoded data removed]",
      "text/plain": [
       "<Figure size 432x288 with 1 Axes>"
      ]
     },
     "metadata": {
      "needs_background": "light"
     },
     "output_type": "display_data"
    }
   ],
   "source": [
    "# examine text_friendly\n",
    "plt.hist(b['text_friendly'])\n",
    "print(b['text_friendly'].describe())"
   ]
  },
  {
   "cell_type": "code",
   "execution_count": 109,
   "metadata": {
    "scrolled": true
   },
   "outputs": [
    {
     "name": "stdout",
     "output_type": "stream",
     "text": [
      "count    18504.000000\n",
      "mean         0.102795\n",
      "std          0.091344\n",
      "min          0.000000\n",
      "25%          0.033336\n",
      "50%          0.090905\n",
      "75%          0.149532\n",
      "max          0.693147\n",
      "dtype: float64\n"
     ]
    },
    {
     "data": {
      "image/png": "[encoded data removed]",
      "text/plain": [
       "<Figure size 432x288 with 1 Axes>"
      ]
     },
     "metadata": {
      "needs_background": "light"
     },
     "output_type": "display_data"
    }
   ],
   "source": [
    "# examine log text_friendly\n",
    "plt.hist(pd.Series([math.log(x+1) for x in b['text_friendly']]))\n",
    "print(pd.Series([math.log(x+1) for x in b['text_friendly']]).describe())"
   ]
  },
  {
   "cell_type": "code",
   "execution_count": 110,
   "metadata": {
    "scrolled": true
   },
   "outputs": [
    {
     "name": "stdout",
     "output_type": "stream",
     "text": [
      "DescribeResult(nobs=18504, minmax=(array([-1.03751124]), array([8.13573711])), mean=array([-1.91997064e-17]), variance=array([1.00005405]), skewness=array([1.96523917]), kurtosis=array([7.68852365]))\n"
     ]
    },
    {
     "data": {
      "image/png": "[encoded data removed]",
      "text/plain": [
       "<Figure size 432x288 with 1 Axes>"
      ]
     },
     "metadata": {
      "needs_background": "light"
     },
     "output_type": "display_data"
    }
   ],
   "source": [
    "# examine scaled text_friendly\n",
    "plt.hist(scaler.fit_transform(np.array(b['text_friendly']).reshape(-1,1)))\n",
    "print(stats.describe(scaler.fit_transform(np.array(b['text_friendly']).reshape(-1,1))))"
   ]
  },
  {
   "cell_type": "code",
   "execution_count": 111,
   "metadata": {
    "scrolled": true
   },
   "outputs": [
    {
     "name": "stdout",
     "output_type": "stream",
     "text": [
      "DescribeResult(nobs=18504, minmax=(array([0.]), array([1.])), mean=array([0.11310184]), variance=array([0.0118844]), skewness=array([1.96523917]), kurtosis=array([7.68852365]))\n"
     ]
    },
    {
     "data": {
      "image/png": "[encoded data removed]",
      "text/plain": [
       "<Figure size 432x288 with 1 Axes>"
      ]
     },
     "metadata": {
      "needs_background": "light"
     },
     "output_type": "display_data"
    }
   ],
   "source": [
    "# examine minmax text_friendly\n",
    "plt.hist(minmax.fit_transform(np.array(b['text_friendly']).reshape(-1,1)))\n",
    "print(stats.describe(minmax.fit_transform(np.array(b['text_friendly']).reshape(-1,1))))"
   ]
  },
  {
   "cell_type": "code",
   "execution_count": 124,
   "metadata": {},
   "outputs": [
    {
     "data": {
      "text/html": [
       "<div>\n",
       "<style scoped>\n",
       "    .dataframe tbody tr th:only-of-type {\n",
       "        vertical-align: middle;\n",
       "    }\n",
       "\n",
       "    .dataframe tbody tr th {\n",
       "        vertical-align: top;\n",
       "    }\n",
       "\n",
       "    .dataframe thead th {\n",
       "        text-align: right;\n",
       "    }\n",
       "</style>\n",
       "<table border=\"1\" class=\"dataframe\">\n",
       "  <thead>\n",
       "    <tr style=\"text-align: right;\">\n",
       "      <th></th>\n",
       "      <th>name</th>\n",
       "      <th>city</th>\n",
       "      <th>las_vegas</th>\n",
       "      <th>stars</th>\n",
       "      <th>price</th>\n",
       "      <th>review_count</th>\n",
       "      <th>1star_ratio</th>\n",
       "      <th>2star_ratio</th>\n",
       "      <th>3star_ratio</th>\n",
       "      <th>4star_ratio</th>\n",
       "      <th>...</th>\n",
       "      <th>Thai</th>\n",
       "      <th>Turkish</th>\n",
       "      <th>Vegan</th>\n",
       "      <th>Vegetarian</th>\n",
       "      <th>Venues &amp; Event Spaces</th>\n",
       "      <th>Vietnamese</th>\n",
       "      <th>Waffles</th>\n",
       "      <th>Wine &amp; Spirits</th>\n",
       "      <th>Wine Bars</th>\n",
       "      <th>Wraps</th>\n",
       "    </tr>\n",
       "    <tr>\n",
       "      <th>business_id</th>\n",
       "      <th></th>\n",
       "      <th></th>\n",
       "      <th></th>\n",
       "      <th></th>\n",
       "      <th></th>\n",
       "      <th></th>\n",
       "      <th></th>\n",
       "      <th></th>\n",
       "      <th></th>\n",
       "      <th></th>\n",
       "      <th></th>\n",
       "      <th></th>\n",
       "      <th></th>\n",
       "      <th></th>\n",
       "      <th></th>\n",
       "      <th></th>\n",
       "      <th></th>\n",
       "      <th></th>\n",
       "      <th></th>\n",
       "      <th></th>\n",
       "      <th></th>\n",
       "    </tr>\n",
       "  </thead>\n",
       "  <tbody>\n",
       "    <tr>\n",
       "      <th>--9e1ONYQuAa-CB_Rrw7Tw</th>\n",
       "      <td>Delmonico Steakhouse</td>\n",
       "      <td>Las Vegas</td>\n",
       "      <td>1</td>\n",
       "      <td>4.0</td>\n",
       "      <td>4.0</td>\n",
       "      <td>NaN</td>\n",
       "      <td>0.032988</td>\n",
       "      <td>0.088616</td>\n",
       "      <td>0.113842</td>\n",
       "      <td>0.271669</td>\n",
       "      <td>...</td>\n",
       "      <td>0</td>\n",
       "      <td>0</td>\n",
       "      <td>0</td>\n",
       "      <td>0</td>\n",
       "      <td>0</td>\n",
       "      <td>0</td>\n",
       "      <td>0</td>\n",
       "      <td>0</td>\n",
       "      <td>0</td>\n",
       "      <td>0</td>\n",
       "    </tr>\n",
       "    <tr>\n",
       "      <th>--DaPTJW3-tB1vP-PfdTEg</th>\n",
       "      <td>Sunnyside Grill</td>\n",
       "      <td>Toronto</td>\n",
       "      <td>0</td>\n",
       "      <td>3.5</td>\n",
       "      <td>2.0</td>\n",
       "      <td>NaN</td>\n",
       "      <td>0.088889</td>\n",
       "      <td>0.066667</td>\n",
       "      <td>0.200000</td>\n",
       "      <td>0.355556</td>\n",
       "      <td>...</td>\n",
       "      <td>0</td>\n",
       "      <td>0</td>\n",
       "      <td>0</td>\n",
       "      <td>0</td>\n",
       "      <td>0</td>\n",
       "      <td>0</td>\n",
       "      <td>0</td>\n",
       "      <td>0</td>\n",
       "      <td>0</td>\n",
       "      <td>0</td>\n",
       "    </tr>\n",
       "    <tr>\n",
       "      <th>--KCl2FvVQpvjzmZSPyviA</th>\n",
       "      <td>Hungry Howie's Pizza</td>\n",
       "      <td>Charlotte</td>\n",
       "      <td>0</td>\n",
       "      <td>3.0</td>\n",
       "      <td>1.0</td>\n",
       "      <td>NaN</td>\n",
       "      <td>0.230769</td>\n",
       "      <td>0.153846</td>\n",
       "      <td>0.230769</td>\n",
       "      <td>0.076923</td>\n",
       "      <td>...</td>\n",
       "      <td>0</td>\n",
       "      <td>0</td>\n",
       "      <td>0</td>\n",
       "      <td>0</td>\n",
       "      <td>0</td>\n",
       "      <td>0</td>\n",
       "      <td>0</td>\n",
       "      <td>0</td>\n",
       "      <td>0</td>\n",
       "      <td>0</td>\n",
       "    </tr>\n",
       "    <tr>\n",
       "      <th>--cZ6Hhc9F7VkKXxHMVZSQ</th>\n",
       "      <td>Pio Pio</td>\n",
       "      <td>Charlotte</td>\n",
       "      <td>0</td>\n",
       "      <td>4.0</td>\n",
       "      <td>2.0</td>\n",
       "      <td>NaN</td>\n",
       "      <td>0.066066</td>\n",
       "      <td>0.066066</td>\n",
       "      <td>0.129129</td>\n",
       "      <td>0.333333</td>\n",
       "      <td>...</td>\n",
       "      <td>0</td>\n",
       "      <td>0</td>\n",
       "      <td>0</td>\n",
       "      <td>0</td>\n",
       "      <td>0</td>\n",
       "      <td>0</td>\n",
       "      <td>0</td>\n",
       "      <td>0</td>\n",
       "      <td>0</td>\n",
       "      <td>0</td>\n",
       "    </tr>\n",
       "    <tr>\n",
       "      <th>-01XupAWZEXbdNbxNg5mEg</th>\n",
       "      <td>18 Degrees Neighborhood Grill</td>\n",
       "      <td>Scottsdale</td>\n",
       "      <td>0</td>\n",
       "      <td>3.0</td>\n",
       "      <td>2.0</td>\n",
       "      <td>NaN</td>\n",
       "      <td>0.243902</td>\n",
       "      <td>0.170732</td>\n",
       "      <td>0.207317</td>\n",
       "      <td>0.268293</td>\n",
       "      <td>...</td>\n",
       "      <td>0</td>\n",
       "      <td>0</td>\n",
       "      <td>0</td>\n",
       "      <td>0</td>\n",
       "      <td>0</td>\n",
       "      <td>0</td>\n",
       "      <td>0</td>\n",
       "      <td>0</td>\n",
       "      <td>0</td>\n",
       "      <td>0</td>\n",
       "    </tr>\n",
       "  </tbody>\n",
       "</table>\n",
       "<p>5 rows × 202 columns</p>\n",
       "</div>"
      ],
      "text/plain": [
       "                                                 name        city  las_vegas  \\\n",
       "business_id                                                                    \n",
       "--9e1ONYQuAa-CB_Rrw7Tw           Delmonico Steakhouse   Las Vegas          1   \n",
       "--DaPTJW3-tB1vP-PfdTEg                Sunnyside Grill     Toronto          0   \n",
       "--KCl2FvVQpvjzmZSPyviA           Hungry Howie's Pizza   Charlotte          0   \n",
       "--cZ6Hhc9F7VkKXxHMVZSQ                        Pio Pio   Charlotte          0   \n",
       "-01XupAWZEXbdNbxNg5mEg  18 Degrees Neighborhood Grill  Scottsdale          0   \n",
       "\n",
       "                        stars  price  review_count  1star_ratio  2star_ratio  \\\n",
       "business_id                                                                    \n",
       "--9e1ONYQuAa-CB_Rrw7Tw    4.0    4.0           NaN     0.032988     0.088616   \n",
       "--DaPTJW3-tB1vP-PfdTEg    3.5    2.0           NaN     0.088889     0.066667   \n",
       "--KCl2FvVQpvjzmZSPyviA    3.0    1.0           NaN     0.230769     0.153846   \n",
       "--cZ6Hhc9F7VkKXxHMVZSQ    4.0    2.0           NaN     0.066066     0.066066   \n",
       "-01XupAWZEXbdNbxNg5mEg    3.0    2.0           NaN     0.243902     0.170732   \n",
       "\n",
       "                        3star_ratio  4star_ratio  ...  Thai Turkish  Vegan  \\\n",
       "business_id                                       ...                        \n",
       "--9e1ONYQuAa-CB_Rrw7Tw     0.113842     0.271669  ...     0       0      0   \n",
       "--DaPTJW3-tB1vP-PfdTEg     0.200000     0.355556  ...     0       0      0   \n",
       "--KCl2FvVQpvjzmZSPyviA     0.230769     0.076923  ...     0       0      0   \n",
       "--cZ6Hhc9F7VkKXxHMVZSQ     0.129129     0.333333  ...     0       0      0   \n",
       "-01XupAWZEXbdNbxNg5mEg     0.207317     0.268293  ...     0       0      0   \n",
       "\n",
       "                        Vegetarian  Venues & Event Spaces  Vietnamese  \\\n",
       "business_id                                                             \n",
       "--9e1ONYQuAa-CB_Rrw7Tw           0                      0           0   \n",
       "--DaPTJW3-tB1vP-PfdTEg           0                      0           0   \n",
       "--KCl2FvVQpvjzmZSPyviA           0                      0           0   \n",
       "--cZ6Hhc9F7VkKXxHMVZSQ           0                      0           0   \n",
       "-01XupAWZEXbdNbxNg5mEg           0                      0           0   \n",
       "\n",
       "                        Waffles  Wine & Spirits  Wine Bars  Wraps  \n",
       "business_id                                                        \n",
       "--9e1ONYQuAa-CB_Rrw7Tw        0               0          0      0  \n",
       "--DaPTJW3-tB1vP-PfdTEg        0               0          0      0  \n",
       "--KCl2FvVQpvjzmZSPyviA        0               0          0      0  \n",
       "--cZ6Hhc9F7VkKXxHMVZSQ        0               0          0      0  \n",
       "-01XupAWZEXbdNbxNg5mEg        0               0          0      0  \n",
       "\n",
       "[5 rows x 202 columns]"
      ]
     },
     "execution_count": 124,
     "metadata": {},
     "output_type": "execute_result"
    }
   ],
   "source": [
    "b.head()"
   ]
  },
  {
   "cell_type": "code",
   "execution_count": 204,
   "metadata": {},
   "outputs": [],
   "source": [
    "# save business dataset\n",
    "b.to_csv('business_r_and_f_8.4.csv')"
   ]
  },
  {
   "cell_type": "markdown",
   "metadata": {},
   "source": [
    "### User"
   ]
  },
  {
   "cell_type": "code",
   "execution_count": 121,
   "metadata": {
    "scrolled": true
   },
   "outputs": [
    {
     "name": "stdout",
     "output_type": "stream",
     "text": [
      "(654161, 22)\n"
     ]
    }
   ],
   "source": [
    "u = pd.read_csv('user_r_and_f', index_col='user_id')\n",
    "print(u.shape)"
   ]
  },
  {
   "cell_type": "code",
   "execution_count": 122,
   "metadata": {},
   "outputs": [
    {
     "data": {
      "text/html": [
       "<div>\n",
       "<style scoped>\n",
       "    .dataframe tbody tr th:only-of-type {\n",
       "        vertical-align: middle;\n",
       "    }\n",
       "\n",
       "    .dataframe tbody tr th {\n",
       "        vertical-align: top;\n",
       "    }\n",
       "\n",
       "    .dataframe thead th {\n",
       "        text-align: right;\n",
       "    }\n",
       "</style>\n",
       "<table border=\"1\" class=\"dataframe\">\n",
       "  <thead>\n",
       "    <tr style=\"text-align: right;\">\n",
       "      <th></th>\n",
       "      <th>name</th>\n",
       "      <th>review_count</th>\n",
       "      <th>average_stars</th>\n",
       "      <th>yelping_since</th>\n",
       "      <th>friends</th>\n",
       "      <th>fans</th>\n",
       "      <th>elite</th>\n",
       "      <th>cool</th>\n",
       "      <th>funny</th>\n",
       "      <th>useful</th>\n",
       "      <th>...</th>\n",
       "      <th>compliment_funny</th>\n",
       "      <th>compliment_hot</th>\n",
       "      <th>compliment_list</th>\n",
       "      <th>compliment_more</th>\n",
       "      <th>compliment_note</th>\n",
       "      <th>compliment_photos</th>\n",
       "      <th>compliment_plain</th>\n",
       "      <th>compliment_profile</th>\n",
       "      <th>compliment_writer</th>\n",
       "      <th>friend_count</th>\n",
       "    </tr>\n",
       "    <tr>\n",
       "      <th>user_id</th>\n",
       "      <th></th>\n",
       "      <th></th>\n",
       "      <th></th>\n",
       "      <th></th>\n",
       "      <th></th>\n",
       "      <th></th>\n",
       "      <th></th>\n",
       "      <th></th>\n",
       "      <th></th>\n",
       "      <th></th>\n",
       "      <th></th>\n",
       "      <th></th>\n",
       "      <th></th>\n",
       "      <th></th>\n",
       "      <th></th>\n",
       "      <th></th>\n",
       "      <th></th>\n",
       "      <th></th>\n",
       "      <th></th>\n",
       "      <th></th>\n",
       "      <th></th>\n",
       "    </tr>\n",
       "  </thead>\n",
       "  <tbody>\n",
       "    <tr>\n",
       "      <th>lzlZwIpuSWXEnNS91wxjHw</th>\n",
       "      <td>Susan</td>\n",
       "      <td>1</td>\n",
       "      <td>2.00</td>\n",
       "      <td>2015-09-28</td>\n",
       "      <td>None</td>\n",
       "      <td>0</td>\n",
       "      <td>None</td>\n",
       "      <td>0</td>\n",
       "      <td>0</td>\n",
       "      <td>0</td>\n",
       "      <td>...</td>\n",
       "      <td>0</td>\n",
       "      <td>0</td>\n",
       "      <td>0</td>\n",
       "      <td>0</td>\n",
       "      <td>0</td>\n",
       "      <td>0</td>\n",
       "      <td>0</td>\n",
       "      <td>0</td>\n",
       "      <td>0</td>\n",
       "      <td>0</td>\n",
       "    </tr>\n",
       "    <tr>\n",
       "      <th>XvLBr-9smbI0m_a7dXtB7w</th>\n",
       "      <td>Daipayan</td>\n",
       "      <td>2</td>\n",
       "      <td>5.00</td>\n",
       "      <td>2015-09-05</td>\n",
       "      <td>None</td>\n",
       "      <td>0</td>\n",
       "      <td>None</td>\n",
       "      <td>0</td>\n",
       "      <td>0</td>\n",
       "      <td>0</td>\n",
       "      <td>...</td>\n",
       "      <td>0</td>\n",
       "      <td>0</td>\n",
       "      <td>0</td>\n",
       "      <td>0</td>\n",
       "      <td>0</td>\n",
       "      <td>0</td>\n",
       "      <td>0</td>\n",
       "      <td>0</td>\n",
       "      <td>0</td>\n",
       "      <td>0</td>\n",
       "    </tr>\n",
       "    <tr>\n",
       "      <th>QPT4Ud4H5sJVr68yXhoWFw</th>\n",
       "      <td>Andy</td>\n",
       "      <td>1</td>\n",
       "      <td>4.00</td>\n",
       "      <td>2016-07-21</td>\n",
       "      <td>None</td>\n",
       "      <td>0</td>\n",
       "      <td>None</td>\n",
       "      <td>0</td>\n",
       "      <td>0</td>\n",
       "      <td>0</td>\n",
       "      <td>...</td>\n",
       "      <td>0</td>\n",
       "      <td>0</td>\n",
       "      <td>0</td>\n",
       "      <td>0</td>\n",
       "      <td>0</td>\n",
       "      <td>0</td>\n",
       "      <td>0</td>\n",
       "      <td>0</td>\n",
       "      <td>0</td>\n",
       "      <td>0</td>\n",
       "    </tr>\n",
       "    <tr>\n",
       "      <th>s4FoIXE_LSGviTHBe8dmcg</th>\n",
       "      <td>Shashank</td>\n",
       "      <td>3</td>\n",
       "      <td>3.00</td>\n",
       "      <td>2017-06-18</td>\n",
       "      <td>None</td>\n",
       "      <td>0</td>\n",
       "      <td>None</td>\n",
       "      <td>0</td>\n",
       "      <td>0</td>\n",
       "      <td>0</td>\n",
       "      <td>...</td>\n",
       "      <td>0</td>\n",
       "      <td>0</td>\n",
       "      <td>0</td>\n",
       "      <td>0</td>\n",
       "      <td>0</td>\n",
       "      <td>0</td>\n",
       "      <td>0</td>\n",
       "      <td>0</td>\n",
       "      <td>0</td>\n",
       "      <td>0</td>\n",
       "    </tr>\n",
       "    <tr>\n",
       "      <th>nnB0AE1Cxp_0154xkhXelw</th>\n",
       "      <td>Mike</td>\n",
       "      <td>11</td>\n",
       "      <td>2.77</td>\n",
       "      <td>2014-07-11</td>\n",
       "      <td>None</td>\n",
       "      <td>1</td>\n",
       "      <td>None</td>\n",
       "      <td>0</td>\n",
       "      <td>0</td>\n",
       "      <td>8</td>\n",
       "      <td>...</td>\n",
       "      <td>0</td>\n",
       "      <td>0</td>\n",
       "      <td>0</td>\n",
       "      <td>0</td>\n",
       "      <td>0</td>\n",
       "      <td>0</td>\n",
       "      <td>0</td>\n",
       "      <td>0</td>\n",
       "      <td>0</td>\n",
       "      <td>0</td>\n",
       "    </tr>\n",
       "  </tbody>\n",
       "</table>\n",
       "<p>5 rows × 22 columns</p>\n",
       "</div>"
      ],
      "text/plain": [
       "                            name  review_count  average_stars yelping_since  \\\n",
       "user_id                                                                       \n",
       "lzlZwIpuSWXEnNS91wxjHw     Susan             1           2.00    2015-09-28   \n",
       "XvLBr-9smbI0m_a7dXtB7w  Daipayan             2           5.00    2015-09-05   \n",
       "QPT4Ud4H5sJVr68yXhoWFw      Andy             1           4.00    2016-07-21   \n",
       "s4FoIXE_LSGviTHBe8dmcg  Shashank             3           3.00    2017-06-18   \n",
       "nnB0AE1Cxp_0154xkhXelw      Mike            11           2.77    2014-07-11   \n",
       "\n",
       "                       friends  fans elite  cool  funny  useful  ...  \\\n",
       "user_id                                                          ...   \n",
       "lzlZwIpuSWXEnNS91wxjHw    None     0  None     0      0       0  ...   \n",
       "XvLBr-9smbI0m_a7dXtB7w    None     0  None     0      0       0  ...   \n",
       "QPT4Ud4H5sJVr68yXhoWFw    None     0  None     0      0       0  ...   \n",
       "s4FoIXE_LSGviTHBe8dmcg    None     0  None     0      0       0  ...   \n",
       "nnB0AE1Cxp_0154xkhXelw    None     1  None     0      0       8  ...   \n",
       "\n",
       "                        compliment_funny  compliment_hot  compliment_list  \\\n",
       "user_id                                                                     \n",
       "lzlZwIpuSWXEnNS91wxjHw                 0               0                0   \n",
       "XvLBr-9smbI0m_a7dXtB7w                 0               0                0   \n",
       "QPT4Ud4H5sJVr68yXhoWFw                 0               0                0   \n",
       "s4FoIXE_LSGviTHBe8dmcg                 0               0                0   \n",
       "nnB0AE1Cxp_0154xkhXelw                 0               0                0   \n",
       "\n",
       "                        compliment_more  compliment_note  compliment_photos  \\\n",
       "user_id                                                                       \n",
       "lzlZwIpuSWXEnNS91wxjHw                0                0                  0   \n",
       "XvLBr-9smbI0m_a7dXtB7w                0                0                  0   \n",
       "QPT4Ud4H5sJVr68yXhoWFw                0                0                  0   \n",
       "s4FoIXE_LSGviTHBe8dmcg                0                0                  0   \n",
       "nnB0AE1Cxp_0154xkhXelw                0                0                  0   \n",
       "\n",
       "                        compliment_plain  compliment_profile  \\\n",
       "user_id                                                        \n",
       "lzlZwIpuSWXEnNS91wxjHw                 0                   0   \n",
       "XvLBr-9smbI0m_a7dXtB7w                 0                   0   \n",
       "QPT4Ud4H5sJVr68yXhoWFw                 0                   0   \n",
       "s4FoIXE_LSGviTHBe8dmcg                 0                   0   \n",
       "nnB0AE1Cxp_0154xkhXelw                 0                   0   \n",
       "\n",
       "                        compliment_writer  friend_count  \n",
       "user_id                                                  \n",
       "lzlZwIpuSWXEnNS91wxjHw                  0             0  \n",
       "XvLBr-9smbI0m_a7dXtB7w                  0             0  \n",
       "QPT4Ud4H5sJVr68yXhoWFw                  0             0  \n",
       "s4FoIXE_LSGviTHBe8dmcg                  0             0  \n",
       "nnB0AE1Cxp_0154xkhXelw                  0             0  \n",
       "\n",
       "[5 rows x 22 columns]"
      ]
     },
     "execution_count": 122,
     "metadata": {},
     "output_type": "execute_result"
    }
   ],
   "source": [
    "u.head()"
   ]
  },
  {
   "cell_type": "code",
   "execution_count": 123,
   "metadata": {},
   "outputs": [
    {
     "data": {
      "text/plain": [
       "['name',\n",
       " 'review_count',\n",
       " 'average_stars',\n",
       " 'yelping_since',\n",
       " 'friends',\n",
       " 'fans',\n",
       " 'elite',\n",
       " 'cool',\n",
       " 'funny',\n",
       " 'useful',\n",
       " 'compliment_cool',\n",
       " 'compliment_cute',\n",
       " 'compliment_funny',\n",
       " 'compliment_hot',\n",
       " 'compliment_list',\n",
       " 'compliment_more',\n",
       " 'compliment_note',\n",
       " 'compliment_photos',\n",
       " 'compliment_plain',\n",
       " 'compliment_profile',\n",
       " 'compliment_writer',\n",
       " 'friend_count']"
      ]
     },
     "execution_count": 123,
     "metadata": {},
     "output_type": "execute_result"
    }
   ],
   "source": [
    "[col for col in u.columns]"
   ]
  },
  {
   "cell_type": "markdown",
   "metadata": {},
   "source": [
    "### Review - delete duplicate reviews"
   ]
  },
  {
   "cell_type": "code",
   "execution_count": 36,
   "metadata": {
    "scrolled": true
   },
   "outputs": [
    {
     "name": "stdout",
     "output_type": "stream",
     "text": [
      "(1953249, 9)\n"
     ]
    }
   ],
   "source": [
    "r = pd.read_csv('review_r_and_f')\n",
    "print(r.shape)"
   ]
  },
  {
   "cell_type": "code",
   "execution_count": 37,
   "metadata": {},
   "outputs": [
    {
     "data": {
      "text/html": [
       "<div>\n",
       "<style scoped>\n",
       "    .dataframe tbody tr th:only-of-type {\n",
       "        vertical-align: middle;\n",
       "    }\n",
       "\n",
       "    .dataframe tbody tr th {\n",
       "        vertical-align: top;\n",
       "    }\n",
       "\n",
       "    .dataframe thead th {\n",
       "        text-align: right;\n",
       "    }\n",
       "</style>\n",
       "<table border=\"1\" class=\"dataframe\">\n",
       "  <thead>\n",
       "    <tr style=\"text-align: right;\">\n",
       "      <th></th>\n",
       "      <th>review_id</th>\n",
       "      <th>business_id</th>\n",
       "      <th>cool</th>\n",
       "      <th>date</th>\n",
       "      <th>funny</th>\n",
       "      <th>stars</th>\n",
       "      <th>text</th>\n",
       "      <th>useful</th>\n",
       "      <th>user_id</th>\n",
       "    </tr>\n",
       "  </thead>\n",
       "  <tbody>\n",
       "    <tr>\n",
       "      <th>368310</th>\n",
       "      <td>Tv_K6XzCGFXHc_TnwSSRqg</td>\n",
       "      <td>FXiPQQGr_2bwlJ4wOrW2eA</td>\n",
       "      <td>0</td>\n",
       "      <td>2018-04-18</td>\n",
       "      <td>0</td>\n",
       "      <td>2</td>\n",
       "      <td>Not impressed at all. Bread was cold and bland...</td>\n",
       "      <td>1</td>\n",
       "      <td>0wH8fLJ5upPqExGx5GkwCA</td>\n",
       "    </tr>\n",
       "    <tr>\n",
       "      <th>265565</th>\n",
       "      <td>HfCNzlLpBwQ4HY04p43xDA</td>\n",
       "      <td>G03yt8WuN1v0bCD8mvoDiA</td>\n",
       "      <td>1</td>\n",
       "      <td>2017-05-17</td>\n",
       "      <td>0</td>\n",
       "      <td>5</td>\n",
       "      <td>If you're looking for a great sub, this is the...</td>\n",
       "      <td>3</td>\n",
       "      <td>tT4FR1IFaKefW2hwOSRCxQ</td>\n",
       "    </tr>\n",
       "    <tr>\n",
       "      <th>1281217</th>\n",
       "      <td>G24vdV1jT41U3HafC3vXHg</td>\n",
       "      <td>966W5oXOBW0ZWhNYy0yjcA</td>\n",
       "      <td>0</td>\n",
       "      <td>2015-06-26</td>\n",
       "      <td>0</td>\n",
       "      <td>5</td>\n",
       "      <td>Wendy's noodle shop is an unassuming little Ch...</td>\n",
       "      <td>1</td>\n",
       "      <td>Zw-0Lo01W0QdkHT60DYg4g</td>\n",
       "    </tr>\n",
       "    <tr>\n",
       "      <th>757946</th>\n",
       "      <td>Va3N_193RGZJILhBl-Huxw</td>\n",
       "      <td>0NmTwqYEQiKErDv4a55obg</td>\n",
       "      <td>0</td>\n",
       "      <td>2015-06-30</td>\n",
       "      <td>0</td>\n",
       "      <td>1</td>\n",
       "      <td>Waiter was unfriendly and not welcoming.    Wa...</td>\n",
       "      <td>1</td>\n",
       "      <td>x_YWFkTcxEu1lo8Nlrog5A</td>\n",
       "    </tr>\n",
       "    <tr>\n",
       "      <th>177762</th>\n",
       "      <td>vH7aOl2HAOA6VchEkhQhSQ</td>\n",
       "      <td>e9sB72njxz87r5TL6kG-Fw</td>\n",
       "      <td>2</td>\n",
       "      <td>2017-01-12</td>\n",
       "      <td>2</td>\n",
       "      <td>4</td>\n",
       "      <td>I've had a few tasty lunches at Cowbell. I've ...</td>\n",
       "      <td>2</td>\n",
       "      <td>ivyst1KduPZspC77zavZsQ</td>\n",
       "    </tr>\n",
       "  </tbody>\n",
       "</table>\n",
       "</div>"
      ],
      "text/plain": [
       "                      review_id             business_id  cool        date  \\\n",
       "368310   Tv_K6XzCGFXHc_TnwSSRqg  FXiPQQGr_2bwlJ4wOrW2eA     0  2018-04-18   \n",
       "265565   HfCNzlLpBwQ4HY04p43xDA  G03yt8WuN1v0bCD8mvoDiA     1  2017-05-17   \n",
       "1281217  G24vdV1jT41U3HafC3vXHg  966W5oXOBW0ZWhNYy0yjcA     0  2015-06-26   \n",
       "757946   Va3N_193RGZJILhBl-Huxw  0NmTwqYEQiKErDv4a55obg     0  2015-06-30   \n",
       "177762   vH7aOl2HAOA6VchEkhQhSQ  e9sB72njxz87r5TL6kG-Fw     2  2017-01-12   \n",
       "\n",
       "         funny  stars                                               text  \\\n",
       "368310       0      2  Not impressed at all. Bread was cold and bland...   \n",
       "265565       0      5  If you're looking for a great sub, this is the...   \n",
       "1281217      0      5  Wendy's noodle shop is an unassuming little Ch...   \n",
       "757946       0      1  Waiter was unfriendly and not welcoming.    Wa...   \n",
       "177762       2      4  I've had a few tasty lunches at Cowbell. I've ...   \n",
       "\n",
       "         useful                 user_id  \n",
       "368310        1  0wH8fLJ5upPqExGx5GkwCA  \n",
       "265565        3  tT4FR1IFaKefW2hwOSRCxQ  \n",
       "1281217       1  Zw-0Lo01W0QdkHT60DYg4g  \n",
       "757946        1  x_YWFkTcxEu1lo8Nlrog5A  \n",
       "177762        2  ivyst1KduPZspC77zavZsQ  "
      ]
     },
     "execution_count": 37,
     "metadata": {},
     "output_type": "execute_result"
    }
   ],
   "source": [
    "r.sample(5)"
   ]
  },
  {
   "cell_type": "code",
   "execution_count": 40,
   "metadata": {},
   "outputs": [
    {
     "data": {
      "text/html": [
       "<div>\n",
       "<style scoped>\n",
       "    .dataframe tbody tr th:only-of-type {\n",
       "        vertical-align: middle;\n",
       "    }\n",
       "\n",
       "    .dataframe tbody tr th {\n",
       "        vertical-align: top;\n",
       "    }\n",
       "\n",
       "    .dataframe thead th {\n",
       "        text-align: right;\n",
       "    }\n",
       "</style>\n",
       "<table border=\"1\" class=\"dataframe\">\n",
       "  <thead>\n",
       "    <tr style=\"text-align: right;\">\n",
       "      <th></th>\n",
       "      <th>business_id</th>\n",
       "      <th>user_id</th>\n",
       "      <th>counts</th>\n",
       "    </tr>\n",
       "  </thead>\n",
       "  <tbody>\n",
       "    <tr>\n",
       "      <th>0</th>\n",
       "      <td>--9e1ONYQuAa-CB_Rrw7Tw</td>\n",
       "      <td>---1lKK3aKOuomHnwAkAow</td>\n",
       "      <td>1</td>\n",
       "    </tr>\n",
       "    <tr>\n",
       "      <th>1</th>\n",
       "      <td>--9e1ONYQuAa-CB_Rrw7Tw</td>\n",
       "      <td>-11nMat3F0DgsxT30hn8zA</td>\n",
       "      <td>1</td>\n",
       "    </tr>\n",
       "    <tr>\n",
       "      <th>2</th>\n",
       "      <td>--9e1ONYQuAa-CB_Rrw7Tw</td>\n",
       "      <td>-3fMaL_ck0wzEsTZyz-mqA</td>\n",
       "      <td>1</td>\n",
       "    </tr>\n",
       "    <tr>\n",
       "      <th>3</th>\n",
       "      <td>--9e1ONYQuAa-CB_Rrw7Tw</td>\n",
       "      <td>-47EprTYhe9IbAvplGIcpA</td>\n",
       "      <td>1</td>\n",
       "    </tr>\n",
       "    <tr>\n",
       "      <th>4</th>\n",
       "      <td>--9e1ONYQuAa-CB_Rrw7Tw</td>\n",
       "      <td>-7cPERHtAupd1Xq53nmhXg</td>\n",
       "      <td>1</td>\n",
       "    </tr>\n",
       "  </tbody>\n",
       "</table>\n",
       "</div>"
      ],
      "text/plain": [
       "              business_id                 user_id  counts\n",
       "0  --9e1ONYQuAa-CB_Rrw7Tw  ---1lKK3aKOuomHnwAkAow       1\n",
       "1  --9e1ONYQuAa-CB_Rrw7Tw  -11nMat3F0DgsxT30hn8zA       1\n",
       "2  --9e1ONYQuAa-CB_Rrw7Tw  -3fMaL_ck0wzEsTZyz-mqA       1\n",
       "3  --9e1ONYQuAa-CB_Rrw7Tw  -47EprTYhe9IbAvplGIcpA       1\n",
       "4  --9e1ONYQuAa-CB_Rrw7Tw  -7cPERHtAupd1Xq53nmhXg       1"
      ]
     },
     "execution_count": 40,
     "metadata": {},
     "output_type": "execute_result"
    }
   ],
   "source": [
    "r_count = r.groupby(['business_id', 'user_id'])['review_id'].size().reset_index(name='counts')\n",
    "r_count.head()"
   ]
  },
  {
   "cell_type": "code",
   "execution_count": 42,
   "metadata": {},
   "outputs": [
    {
     "data": {
      "text/html": [
       "<div>\n",
       "<style scoped>\n",
       "    .dataframe tbody tr th:only-of-type {\n",
       "        vertical-align: middle;\n",
       "    }\n",
       "\n",
       "    .dataframe tbody tr th {\n",
       "        vertical-align: top;\n",
       "    }\n",
       "\n",
       "    .dataframe thead th {\n",
       "        text-align: right;\n",
       "    }\n",
       "</style>\n",
       "<table border=\"1\" class=\"dataframe\">\n",
       "  <thead>\n",
       "    <tr style=\"text-align: right;\">\n",
       "      <th></th>\n",
       "      <th>counts</th>\n",
       "    </tr>\n",
       "  </thead>\n",
       "  <tbody>\n",
       "    <tr>\n",
       "      <th>count</th>\n",
       "      <td>1953249.0</td>\n",
       "    </tr>\n",
       "    <tr>\n",
       "      <th>mean</th>\n",
       "      <td>1.0</td>\n",
       "    </tr>\n",
       "    <tr>\n",
       "      <th>std</th>\n",
       "      <td>0.0</td>\n",
       "    </tr>\n",
       "    <tr>\n",
       "      <th>min</th>\n",
       "      <td>1.0</td>\n",
       "    </tr>\n",
       "    <tr>\n",
       "      <th>25%</th>\n",
       "      <td>1.0</td>\n",
       "    </tr>\n",
       "    <tr>\n",
       "      <th>50%</th>\n",
       "      <td>1.0</td>\n",
       "    </tr>\n",
       "    <tr>\n",
       "      <th>75%</th>\n",
       "      <td>1.0</td>\n",
       "    </tr>\n",
       "    <tr>\n",
       "      <th>max</th>\n",
       "      <td>1.0</td>\n",
       "    </tr>\n",
       "  </tbody>\n",
       "</table>\n",
       "</div>"
      ],
      "text/plain": [
       "          counts\n",
       "count  1953249.0\n",
       "mean         1.0\n",
       "std          0.0\n",
       "min          1.0\n",
       "25%          1.0\n",
       "50%          1.0\n",
       "75%          1.0\n",
       "max          1.0"
      ]
     },
     "execution_count": 42,
     "metadata": {},
     "output_type": "execute_result"
    }
   ],
   "source": [
    "# check if there are duplicate reviews of the same business\n",
    "r_count.describe()"
   ]
  },
  {
   "cell_type": "markdown",
   "metadata": {},
   "source": [
    "### Review - standardize star rating to count for bias and make negative to -1 and positive to 1"
   ]
  },
  {
   "cell_type": "code",
   "execution_count": 45,
   "metadata": {},
   "outputs": [
    {
     "data": {
      "text/plain": [
       "Index(['lzlZwIpuSWXEnNS91wxjHw', 'XvLBr-9smbI0m_a7dXtB7w',\n",
       "       'QPT4Ud4H5sJVr68yXhoWFw', 's4FoIXE_LSGviTHBe8dmcg',\n",
       "       'nnB0AE1Cxp_0154xkhXelw', 'XoEnrhtJc2pcdlQ09d8Oug',\n",
       "       'QDQTMYp2NocktWN5fHwfIg', 'SgYDjNCecPidsRB_su5-tw',\n",
       "       'NfE1uHFWzzMyXkgBeEuR1A', 'RiBVI6UgLjfpA4EQ1SWDzA',\n",
       "       ...\n",
       "       '60zMHHm6wpOFqCHG4OV81w', 'a8mOFGT4ycNL20TCEFkqaA',\n",
       "       '69VNRfJ47FgGnGk0Pv8rdw', 'kwQ3BMAx-_cHmfEFH5qTfw',\n",
       "       'c-cVGZ2nMZykcPIty31ACQ', '3Aw_juO9mTtSr1rfqdA1zA',\n",
       "       'd2SkpTWNz5K2SW6N7edBDQ', 'dh8Tq0V6cPBYhEL0aIDHLA',\n",
       "       'WYh5sCrjMuv6liUU48r3Jw', 'dZ-qwZX1_Ge-8KuSIJHhyA'],\n",
       "      dtype='object', name='user_id', length=654161)"
      ]
     },
     "execution_count": 45,
     "metadata": {},
     "output_type": "execute_result"
    }
   ],
   "source": [
    "unique_users = u.index\n",
    "\n",
    "for i, user in enumerate(unique_users):\n",
    "    # get average rating\n",
    "    avg = float(u.average_stars[u.index == user])\n",
    "    \n",
    "    # standardize\n",
    "    sentiment"
   ]
  },
  {
   "cell_type": "code",
   "execution_count": 46,
   "metadata": {
    "scrolled": true
   },
   "outputs": [
    {
     "data": {
      "text/plain": [
       "user_id\n",
       "---1lKK3aKOuomHnwAkAow    3.777778\n",
       "---94vtJ_5o_nikEs6hUjg    5.000000\n",
       "---PLwSf5gKdIoVnyRHgBA    3.000000\n",
       "---udAKDsn0yQXmzbWQNSw    4.500000\n",
       "--0WZ5gklOfbUIodJuKfaQ    5.000000\n",
       "--0sXNBv6IizZXuV-nl0Aw    5.000000\n",
       "--1mPJZdSY9KluaBYAGboQ    5.000000\n",
       "--2HUmLkcNHZp0xw6AMBPg    4.724138\n",
       "--2bpE5vyR-2hAP7sZZ4lA    4.000000\n",
       "--2vR0DIsmQ6WfcSzKWigw    3.800000\n",
       "--3WaS23LcIXtxyFULJHTA    3.857143\n",
       "--3loIEaXcepp9OKGi_1FQ    5.000000\n",
       "--41c9Tl0C9OGewIR7Qyzg    4.500000\n",
       "--4q8EyqThydQm-eKZpS-A    2.000000\n",
       "--4rAAfZnEIAKJE80aIiYg    2.750000\n",
       "--4uW4yJiRT2oXMYkCPq1Q    4.000000\n",
       "--5-MQZPsn2CJkyMFQkOgQ    5.000000\n",
       "--56mD0sm1eOogphi2FFLw    4.500000\n",
       "--5XzJ2pRsVVJiJUfzZlgQ    5.000000\n",
       "--66hzx80CeVZcrm4AKJtQ    4.000000\n",
       "--6Ke7_lBBM6XAramtPoWw    5.000000\n",
       "--6yF1CPQCVlnFS-sxi7Rg    1.000000\n",
       "--7gjElmOrthETJ8XqzMBw    3.250000\n",
       "--7oh57FmI8_IHX0Q4n-Wg    4.000000\n",
       "--8ELb8W1afbyP21EZStPg    5.000000\n",
       "--8g9UaBe0xQ4FD0q34h_A    4.000000\n",
       "--9yZb1OLNN18HyDXgZrJA    4.000000\n",
       "--AujbGl6SYRaY8SFVNHXA    5.000000\n",
       "--B6JIfTRS2gBmqKhCaI5g    5.000000\n",
       "--BIMVqCxdg5AbJu-ysD8g    5.000000\n",
       "                            ...   \n",
       "zzmbLv7WZPxhGbpk0BdPPQ    5.000000\n",
       "zzmhLxcZ4XZQyz95c_KbOA    5.000000\n",
       "zznZTSALzMXf3cjggfNdBQ    3.000000\n",
       "zznioU9fpJ9BEG6hXnmhIA    1.000000\n",
       "zzo--VpSQh8PpsGVeMC1dQ    3.727273\n",
       "zzoNLUFml9D-FFSkDoGg2g    5.000000\n",
       "zzpGgInpynAC9do60jTAsg    5.000000\n",
       "zzpV8L0FOeyejQwomFSDPA    5.000000\n",
       "zzpxVxrXKjv_gjKWUe9PEA    2.000000\n",
       "zzqHCOI0T71WcOWXOcCTJA    5.000000\n",
       "zzqKFafizTSmzY6v2rzhcg    1.000000\n",
       "zzrDwXf7UcMWYBFnkKKPXg    1.000000\n",
       "zzrZ8gFESj5pe-SFZ-h0lw    4.500000\n",
       "zzrfT1VpnEW0gqq3e_TrVw    5.000000\n",
       "zztkCqqgR6VntYbqio4UTQ    4.000000\n",
       "zzuKjUdHN7SQYT5xVV-K6Q    5.000000\n",
       "zzvV3l9IqTRX7Db8nxThbA    4.000000\n",
       "zzvm_VD3HjU6RMx8zq7g1g    5.000000\n",
       "zzvqVZTYs5VKxPc-IkRQ4A    3.000000\n",
       "zzw0Z6-_VDp9ShIRSKIsQw    3.500000\n",
       "zzwP9jh8_W0RhemlxCv_1g    5.000000\n",
       "zzwTJAgONYCTeJia4te47g    3.000000\n",
       "zzwYhKPhnZQPushMyzgtDg    2.000000\n",
       "zzyMMeUZzKAy7KQhM7lU2w    3.000000\n",
       "zzyzP--p98zZtx359NvgGA    3.000000\n",
       "zzzAgDDWe4PTnJuwhi3XQQ    4.500000\n",
       "zzzPVqSxSvjzlLR3Q7wsUw    5.000000\n",
       "zzzTkKLFo9CaeZnfO4TvzA    1.000000\n",
       "zzzTrQ2bkvteEngjkXCTAA    5.000000\n",
       "zzzmshdEWLFCApxETl1TGQ    5.000000\n",
       "Name: stars, Length: 654161, dtype: float64"
      ]
     },
     "execution_count": 46,
     "metadata": {},
     "output_type": "execute_result"
    }
   ],
   "source": [
    "r.groupby('user_id')['stars'].mean()"
   ]
  },
  {
   "cell_type": "markdown",
   "metadata": {},
   "source": [
    "### Normalize/Standardize Numeric Variables"
   ]
  },
  {
   "cell_type": "code",
   "execution_count": 13,
   "metadata": {},
   "outputs": [],
   "source": [
    "# scale all columns to 0-1\n",
    "scaler = StandardScaler()"
   ]
  },
  {
   "cell_type": "code",
   "execution_count": 14,
   "metadata": {},
   "outputs": [
    {
     "data": {
      "text/plain": [
       "array([[ 1.62624477,  0.61140662,  3.74791502, ..., -0.17908363,\n",
       "        -0.12902495, -0.05099785],\n",
       "       [-0.61491358,  0.00653771,  0.56643084, ..., -0.17908363,\n",
       "        -0.12902495, -0.05099785],\n",
       "       [-0.61491358, -0.5983312 , -1.02431125, ..., -0.17908363,\n",
       "        -0.12902495, -0.05099785],\n",
       "       ...,\n",
       "       [-0.61491358,  0.61140662,         nan, ..., -0.17908363,\n",
       "        -0.12902495, -0.05099785],\n",
       "       [-0.61491358, -0.5983312 ,  0.56643084, ..., -0.17908363,\n",
       "        -0.12902495, -0.05099785],\n",
       "       [-0.61491358, -0.5983312 ,  0.56643084, ..., -0.17908363,\n",
       "        -0.12902495, -0.05099785]])"
      ]
     },
     "execution_count": 14,
     "metadata": {},
     "output_type": "execute_result"
    }
   ],
   "source": [
    "scaler.fit_transform(X)"
   ]
  }
 ],
 "metadata": {
  "kernelspec": {
   "display_name": "Python 3",
   "language": "python",
   "name": "python3"
  },
  "language_info": {
   "codemirror_mode": {
    "name": "ipython",
    "version": 3
   },
   "file_extension": ".py",
   "mimetype": "text/x-python",
   "name": "python",
   "nbconvert_exporter": "python",
   "pygments_lexer": "ipython3",
   "version": "3.6.8"
  }
 },
 "nbformat": 4,
 "nbformat_minor": 2
}
